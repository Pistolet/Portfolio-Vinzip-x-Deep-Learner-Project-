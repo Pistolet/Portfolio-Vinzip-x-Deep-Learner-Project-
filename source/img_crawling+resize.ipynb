{
 "cells": [
  {
   "cell_type": "markdown",
   "metadata": {},
   "source": [
    "### vinzip 이미지 크롤링"
   ]
  },
  {
   "cell_type": "code",
   "execution_count": 1,
   "metadata": {},
   "outputs": [],
   "source": [
    "import urllib.request\n",
    "from bs4 import BeautifulSoup\n",
    "import re\n",
    "\n",
    "def cha_scroll(url_path,page):\n",
    "    params = []\n",
    "    for i in range(1,page+1):\n",
    "        list_url = str(url_path) +str(i)\n",
    "        url = urllib.request.Request(list_url)\n",
    "        result = urllib.request.urlopen(url).read().decode(\"utf-8\")\n",
    "        soup = BeautifulSoup(result, \"html.parser\")\n",
    "        \n",
    "        for j in soup.select('.thumbnail > a > img'):\n",
    "            params.append(j.get('src'))\n",
    "        print('\\r', i, '페이지 완료', end='')   # 한줄에 계속 출력하기\n",
    "        \n",
    "    return params\n",
    "\n",
    "def download_img(url_path, file_path,page):\n",
    "    \n",
    "\n",
    "    url_lst = cha_scroll(url_path, page)\n",
    "    for i,url in enumerate(url_lst):\n",
    "        \n",
    "        full_name = file_path + str(i)+'.jpg'\n",
    "        url = 'http:'+url\n",
    "        urllib.request.urlretrieve(url,full_name)\n"
   ]
  },
  {
   "cell_type": "code",
   "execution_count": 3,
   "metadata": {},
   "outputs": [
    {
     "name": "stdout",
     "output_type": "stream",
     "text": [
      "==== [outer] crawling start ====\n",
      " 5 페이지 완료\n",
      "==== [top] crawling start ====\n",
      " 5 페이지 완료\n",
      "==== [bottom] crawling start ====\n",
      " 5 페이지 완료"
     ]
    }
   ],
   "source": [
    "#폴더를 만들어줘야함\n",
    "\n",
    "file_path = 'e:\\\\googleImages\\\\'   #저장할 경로를 설정할 것\n",
    "\n",
    "outer_url = \"http://www.vinzip.kr/product/list.html?cate_no=24&page=\" #outer \n",
    "top_url = \"http://www.vinzip.kr/product/list.html?cate_no=25&page=\"  # top\n",
    "bottom_url = \"http://www.vinzip.kr/product/list.html?cate_no=26&page=\"  #bottom\n",
    "\n",
    "print('==== [outer] crawling start ====')\n",
    "download_img(outer_url,file_path+'outer\\\\',50)  # outer url \n",
    "print('\\n==== [top] crawling start ====')\n",
    "download_img(top_url,file_path+'top\\\\',50)\n",
    "print('\\n==== [bottom] crawling start ====')\n",
    "download_img(bottom_url, file_path+'bottom\\\\',50)\n",
    "\n",
    "#페이지 수를 5로 돌렸다가 다시 50으로 바꿔놈.."
   ]
  },
  {
   "cell_type": "markdown",
   "metadata": {},
   "source": [
    "### 사이즈 조절"
   ]
  },
  {
   "cell_type": "code",
   "execution_count": 6,
   "metadata": {},
   "outputs": [
    {
     "name": "stdout",
     "output_type": "stream",
     "text": [
      "[INFO]  .\\vinzip\\  경로의 비정상 파일을 지우고 이미지의 사이즈를  64 로 변경합니다.\n",
      "\n",
      "[ bottom ][INFO] 크기 및 비율이 비정상인 데이터를 삭제합니다.\n",
      "----크기가 비정상인 파일 : 0건 삭제\n",
      "----비정상 비율인 파일 : 0건 삭제\n",
      "[ bottom ][INFO] 이미지의 사이즈를 64 로 수정합니다.\n",
      "[ bottom ][INFO] 작업이 성공적으로 수행되었습니다.\n",
      "\n",
      "[ outer ][INFO] 크기 및 비율이 비정상인 데이터를 삭제합니다.\n",
      "----크기가 비정상인 파일 : 0건 삭제\n",
      "----비정상 비율인 파일 : 0건 삭제\n",
      "[ outer ][INFO] 이미지의 사이즈를 64 로 수정합니다.\n",
      "[ outer ][INFO] 작업이 성공적으로 수행되었습니다.\n",
      "\n",
      "[ top ][INFO] 크기 및 비율이 비정상인 데이터를 삭제합니다.\n",
      "----크기가 비정상인 파일 : 0건 삭제\n",
      "----비정상 비율인 파일 : 0건 삭제\n",
      "[ top ][INFO] 이미지의 사이즈를 64 로 수정합니다.\n",
      "[ top ][INFO] 작업이 성공적으로 수행되었습니다.\n",
      "\n"
     ]
    }
   ],
   "source": [
    "import glob\n",
    "import cv2\n",
    "import os\n",
    "from os.path import getsize\n",
    "from os import remove\n",
    "from PIL import Image\n",
    "import sys\n",
    "\n",
    "def re_size_img():\n",
    "    \n",
    "    img_size = 64\n",
    "    path = '.\\\\vinzip\\\\'\n",
    "    \n",
    "    img_type = '\\\\*.jpg'\n",
    "\n",
    "    print('[INFO] ',path,' 경로의 비정상 파일을 지우고 이미지의 사이즈를 ',img_size,'로 변경합니다.',end='\\n\\n')\n",
    "    \n",
    "    for img_path in os.listdir(path):   \n",
    "        print('[',img_path,'][INFO] 크기 및 비율이 비정상인 데이터를 삭제합니다.')\n",
    "        imglist = glob.glob(path+img_path+img_type) \n",
    "        cnt = 0 \n",
    "        cnt2 = 0\n",
    "        for img_file in imglist:\n",
    "            if not getsize(img_file) or getsize(img_file)<=200:     # 용량이 아주 작으면 삭제 (비정상 파일일 확률 높음) \n",
    "                cnt+=1\n",
    "                remove(img_file)\n",
    "\n",
    "            elif getsize(img_file):   # 가로/세로 또는 세로/가로 비율이 비정상 적일 경우 삭제\n",
    "                img = Image.open(img_file)\n",
    "                img_h, img_w = img.size[0], img.size[1]\n",
    "                if img_h/img_w >= 3 or img_w/img_h >=3:\n",
    "                    cnt2+=1\n",
    "                    img.close()\n",
    "                    remove(img_file)\n",
    "\n",
    "        print('----크기가 비정상인 파일 : '+str(cnt) + '건 삭제')\n",
    "        print('----비정상 비율인 파일 : '+str(cnt2) + '건 삭제',end ='\\n')\n",
    "        print('[',img_path,'][INFO]','이미지의 사이즈를',img_size,'로 수정합니다.')\n",
    "        \n",
    "        ## 이미지 사이즈 조절\n",
    "        imglist =glob.glob(path+img_path+img_type)\n",
    "\n",
    "        for img_p in imglist:\n",
    "            img = Image.open(img_p)\n",
    "            img.resize((img_size,img_size)).save(img_p)\n",
    "\n",
    "        print('[',img_path,'][INFO] 작업이 성공적으로 수행되었습니다.',end='\\n\\n')\n",
    "        \n",
    "re_size_img()"
   ]
  }
 ],
 "metadata": {
  "kernelspec": {
   "display_name": "zz",
   "language": "python",
   "name": "zz"
  },
  "language_info": {
   "codemirror_mode": {
    "name": "ipython",
    "version": 3
   },
   "file_extension": ".py",
   "mimetype": "text/x-python",
   "name": "python",
   "nbconvert_exporter": "python",
   "pygments_lexer": "ipython3",
   "version": "3.6.6"
  }
 },
 "nbformat": 4,
 "nbformat_minor": 2
}
