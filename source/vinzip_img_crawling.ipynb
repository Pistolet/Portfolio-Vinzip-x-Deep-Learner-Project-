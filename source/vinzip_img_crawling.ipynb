{
 "cells": [
  {
   "cell_type": "code",
   "execution_count": null,
   "metadata": {},
   "outputs": [],
   "source": [
    "import urllib.request\n",
    "from bs4 import BeautifulSoup\n",
    "import re\n",
    "\n",
    "def cha_scroll(url_path,page):\n",
    "    params = []\n",
    "    for i in range(1,page):\n",
    "        list_url = str(url_path) +str(i)\n",
    "        url = urllib.request.Request(list_url)\n",
    "        result = urllib.request.urlopen(url).read().decode(\"utf-8\")\n",
    "        soup = BeautifulSoup(result, \"html.parser\")\n",
    "        \n",
    "        for j in soup.select('.thumbnail > a > img'):\n",
    "            params.append(j.get('src'))\n",
    "    return params\n",
    "\n",
    "def download_img(url_path, file_path,page):\n",
    "\n",
    "    url_lst = cha_scroll(url_path, page)\n",
    "    for i,url in enumerate(url_lst):\n",
    "        \n",
    "        full_name = file_path + str(i)+'.jpg'\n",
    "        url = 'http:'+url\n",
    "        urllib.request.urlretrieve(url,full_name)\n"
   ]
  },
  {
   "cell_type": "code",
   "execution_count": null,
   "metadata": {},
   "outputs": [],
   "source": [
    "file_path = 'e:\\\\googleImages\\\\'   #저장할 경로를 설정할 것\n",
    "\n",
    "outer_url = \"http://www.vinzip.kr/product/list.html?cate_no=24&page=\" #outer \n",
    "top_url = \"http://www.vinzip.kr/product/list.html?cate_no=25&page=\"  # top\n",
    "bottom_url = \"http://www.vinzip.kr/product/list.html?cate_no=26&page=\"  #bottom\n",
    "\n",
    "\n",
    "download_img(outer_url,file_path+'outer\\\\',50)  # outer url \n",
    "download_img(top_url,file_path+'top\\\\',50)\n",
    "download_img(bottom_url, file_path+'bottom\\\\',50)\n"
   ]
  }
 ],
 "metadata": {
  "kernelspec": {
   "display_name": "zz",
   "language": "python",
   "name": "zz"
  },
  "language_info": {
   "codemirror_mode": {
    "name": "ipython",
    "version": 3
   },
   "file_extension": ".py",
   "mimetype": "text/x-python",
   "name": "python",
   "nbconvert_exporter": "python",
   "pygments_lexer": "ipython3",
   "version": "3.6.6"
  }
 },
 "nbformat": 4,
 "nbformat_minor": 2
}
