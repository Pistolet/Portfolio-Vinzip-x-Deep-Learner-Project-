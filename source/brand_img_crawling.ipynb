{
 "cells": [
  {
   "cell_type": "code",
   "execution_count": 38,
   "metadata": {},
   "outputs": [],
   "source": [
    "import urllib.request\n",
    "from bs4 import BeautifulSoup\n",
    "import re\n",
    "\n",
    "def cha_scroll(url_path,page):\n",
    "    params = []\n",
    "    for i in range(1,page+1):\n",
    "        list_url = str(url_path) +str(i)\n",
    "        url = urllib.request.Request(list_url)\n",
    "        result = urllib.request.urlopen(url).read().decode(\"utf-8\")\n",
    "        soup = BeautifulSoup(result, \"html.parser\")\n",
    "        \n",
    "        for j in soup.select('.prdImg > a > img'):\n",
    "            params.append(j.get('src'))\n",
    "        print('\\r', i, '페이지 완료', end='')   # 한줄에 계속 출력하기\n",
    "        \n",
    "    return params\n",
    "\n",
    "def download_img(url_path, file_path,page):\n",
    "\n",
    "    url_lst = cha_scroll(url_path, page)\n",
    "    for i,url in enumerate(url_lst):\n",
    "        full_name = file_path + str(i)+'.jpg'\n",
    "        url = 'http:'+url\n",
    "        urllib.request.urlretrieve(url,full_name)\n"
   ]
  },
  {
   "cell_type": "code",
   "execution_count": 48,
   "metadata": {},
   "outputs": [
    {
     "name": "stdout",
     "output_type": "stream",
     "text": [
      "\n",
      "==== [nike] crawling start ====\n",
      " 20 페이지 완료\n",
      "==== [adidas] crawling start ====\n",
      " 20 페이지 완료\n",
      "==== [polo] crawling start ====\n",
      " 20 페이지 완료\n",
      "==== [fila] crawling start ====\n",
      " 8 페이지 완료"
     ]
    }
   ],
   "source": [
    "file_path = 'E:\\\\data\\\\vinzip\\\\brand_img\\\\'   #저장할 경로를 설정할 것\n",
    "brand_name = {'nike':20,'adidas':20,'polo':20,'fila':8}  # {브랜드명 : 페이지 수} dict\n",
    "\n",
    "for i in brand_name:\n",
    "    print('\\n==== ['+str(i)+'] crawling start ====')\n",
    "    download_img('http://www.vinzip.kr/product/search.html?keyword='+\n",
    "                 str(i)+'&page=', file_path+str(i)+'\\\\',brand_name.get(i))"
   ]
  }
 ],
 "metadata": {
  "kernelspec": {
   "display_name": "zz",
   "language": "python",
   "name": "zz"
  },
  "language_info": {
   "codemirror_mode": {
    "name": "ipython",
    "version": 3
   },
   "file_extension": ".py",
   "mimetype": "text/x-python",
   "name": "python",
   "nbconvert_exporter": "python",
   "pygments_lexer": "ipython3",
   "version": "3.6.6"
  }
 },
 "nbformat": 4,
 "nbformat_minor": 2
}
