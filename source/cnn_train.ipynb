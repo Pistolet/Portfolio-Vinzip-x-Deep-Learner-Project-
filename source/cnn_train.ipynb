{
  "nbformat": 4,
  "nbformat_minor": 0,
  "metadata": {
    "colab": {
      "name": "CNN_study.ipynb의 사본",
      "version": "0.3.2",
      "provenance": [],
      "collapsed_sections": [
        "3_FbuboqOyzC",
        "5GpFwRiBJ0ka",
        "Nx2WCmIBNr6w",
        "fEzF6Gm8RL47",
        "hIl4GfkyVeqf",
        "3WcMP0vRZlae",
        "u5PeK409dUcy",
        "6LAQzIPHRHBG"
      ]
    },
    "kernelspec": {
      "name": "python3",
      "display_name": "Python 3"
    },
    "accelerator": "GPU"
  },
  "cells": [
    {
      "metadata": {
        "id": "WTsR0aiZikuQ",
        "colab_type": "text"
      },
      "cell_type": "markdown",
      "source": [
        "# CNN(Convolutional Neural Network)\n",
        "\n",
        "## Convolutional layers\n",
        "\n",
        "\n",
        "> **w = tf.Variable(tf.random_normal([3,3,1,32], stddev=0.01)) : 32 filters (3x3x1)**\n",
        "> > 3x3x1 필터를 32개 만들 것(너비(3), 높이(3), 입력채널(1), 출력채널(32)를 뜻함)\n",
        "\n",
        "> ** tf.nn.conv2d(X, w, strides=[1, 2, 1, 1], padding = 'SAME')**\n",
        "> > tf.nn.conv2d(input, filter, strides, padding, use_cudnn_on_gpu=None, data_format = None, name= None)\n",
        "\n",
        "> > input : [batch, in_height, in_width, in_channels] 형식. 28x28x1 형식의 손글씨 이미지\n",
        "\n",
        "> > filter : [filter_height, filter_width, in_channels, out_channels] 형식. 3, 3, 1, 32의 w.\n",
        "\n",
        "> > strides : 크기 4인 1차원 리스트. [0], [3]은 반드시 1. 일반적으로 [1],[2]는 같은 값 사용.\n",
        "\n",
        "> > padding : 'SAME' 또는 'VALID'. 패딩을 추가하는 공식의 차이. SAME은 출력 크기를 입력과 같게 유지한다.\n",
        "\n",
        ">> **activation map** : 출력 채널을 부르는 용어로, padding='SAME'을 준 경우, 원본이미지와 똑같은 28x28x1의 형태가 된다.\n",
        "\n",
        "\n",
        "## ReLU\n",
        "\n",
        "> l = tf.nn.conv2d(X, w, [1, 1, 1, 1], 'SAME')\n",
        "\n",
        "> **l1a = tf.nn.relu(tf.nn.conv2d(X, w, [1, 1, 1, 1], 'SAME'))**\n",
        ">> conv를 적용한 결과를 ReLU에 전달하고 있다. 그냥 매개변수로 전달하면 된다.\n",
        "\n",
        "## Pooling layer(sampling)\n",
        "\n",
        "> **l1 = tf.nn.max_pool(c1, ksize=[1, 2, 2, 1], strides = [1, 2, 2, 1], padding = 'SAME')**\n",
        "\n",
        "> **tf.nn.max_pool(value, ksize, strides, padding, data_format='NHWC',name=None)**\n",
        ">> value : [batch, height, width, channels] 형식의 입력데이터. ReLU를 통과한 출력 결과가 된다.\n",
        "\n",
        ">> ksize : 4개 이상의 크기를 갖는 리스트로 입력 데이터의 각 차원 윈도우 크기.\n",
        ">> ksize가 [1,2,2,1]이라는 뜻은 2칸씩이동하면서 출력 결과를 1개 만들어 낸다는 것이다. 다시 말해 4개의 데이터 중에서 가장 큰 1개를 반환하는 역할을 한다. \n",
        "\n",
        ">> data_format : NHWC 또는 NCHW. n-count, height, width, channel의 약자 사용.\n",
        "\n",
        "\n",
        "\n",
        "\n"
      ]
    },
    {
      "metadata": {
        "id": "3_FbuboqOyzC",
        "colab_type": "text"
      },
      "cell_type": "markdown",
      "source": [
        "## load data from google drive"
      ]
    },
    {
      "metadata": {
        "id": "gqNRT2WAjfDJ",
        "colab_type": "code",
        "outputId": "c53063c7-5a2b-40cf-e5db-bd6a5e1e15c1",
        "colab": {
          "base_uri": "https://localhost:8080/",
          "height": 127
        }
      },
      "cell_type": "code",
      "source": [
        "#colab에서 google drive로 접속\n",
        "\n",
        "from google.colab import drive\n",
        "drive.mount('/content/drive')"
      ],
      "execution_count": 0,
      "outputs": [
        {
          "output_type": "stream",
          "text": [
            "Go to this URL in a browser: https://accounts.google.com/o/oauth2/auth?client_id=947318989803-6bn6qk8qdgf4n4g3pfee6491hc0brc4i.apps.googleusercontent.com&redirect_uri=urn%3Aietf%3Awg%3Aoauth%3A2.0%3Aoob&scope=email%20https%3A%2F%2Fwww.googleapis.com%2Fauth%2Fdocs.test%20https%3A%2F%2Fwww.googleapis.com%2Fauth%2Fdrive%20https%3A%2F%2Fwww.googleapis.com%2Fauth%2Fdrive.photos.readonly%20https%3A%2F%2Fwww.googleapis.com%2Fauth%2Fpeopleapi.readonly&response_type=code\n",
            "\n",
            "Enter your authorization code:\n",
            "··········\n",
            "Mounted at /content/drive\n"
          ],
          "name": "stdout"
        }
      ]
    },
    {
      "metadata": {
        "id": "d5sDV6BRsipZ",
        "colab_type": "code",
        "outputId": "caaa59c5-046d-4004-f1e0-e5fb2528dba3",
        "colab": {
          "base_uri": "https://localhost:8080/",
          "height": 89
        }
      },
      "cell_type": "code",
      "source": [
        "!ls -al /content/drive/'My Drive'/vinzip/vinzip/trainingSet\n",
        "\n",
        "label_dict = {\n",
        "    0: 'bottom',\n",
        "    1: 'outer',\n",
        "    2: 'top'\n",
        "}"
      ],
      "execution_count": 0,
      "outputs": [
        {
          "output_type": "stream",
          "text": [
            "total 12\n",
            "drwx------ 2 root root 4096 Dec  2 08:20 bottom\n",
            "drwx------ 2 root root 4096 Dec  2 08:20 outer\n",
            "drwx------ 2 root root 4096 Dec  2 08:20 top\n"
          ],
          "name": "stdout"
        }
      ]
    },
    {
      "metadata": {
        "id": "ys1qkkMqsk06",
        "colab_type": "code",
        "colab": {}
      },
      "cell_type": "code",
      "source": [
        "import os, cv2   \n",
        "import numpy as np \n",
        "from sklearn.preprocessing import LabelEncoder, OneHotEncoder  \n",
        "\n",
        "import tensorflow as tf\n",
        "\n",
        "from PIL import Image\n",
        "import matplotlib.pyplot as plt\n",
        "import matplotlib.image as mpimg\n",
        "\n",
        "os.environ[\"CUDA_VISIBLE_DEVICES\"]=\"0\"\n",
        "\n",
        "\n",
        "\n",
        "# image data를 array로 불러오는 함수\n",
        "def img_to_array(dir, grayscale=True):\n",
        "  images=[]\n",
        "  labels=[]\n",
        "  dir_folder = np.array(os.listdir(dir))\n",
        "  \n",
        "  # 데이터 전처리 (문자로된 폴더 리스트를 숫자형 array로 변환) -> one-hot encoding\n",
        "  label_encoder = LabelEncoder()\n",
        "  integer_encoded = label_encoder.fit_transform(dir_folder)\n",
        "  integer_encoded = integer_encoded.reshape(len(integer_encoded), 1)\n",
        "  \n",
        "  onehot_encoder = OneHotEncoder(sparse=False) \n",
        "  onehot_encoded = onehot_encoder.fit_transform(integer_encoded)\n",
        "  \n",
        "  #image file을 array로 변환->라벨과 함께 각각 리스트에 append 해준다\n",
        "  for idx in range(len(dir_folder)):\n",
        "    path = os.path.join(dir,dir_folder[idx]) + '/'\n",
        "    img_list = os.listdir(path)\n",
        "    print('------ loding... -------',path)\n",
        "    for img in img_list:\n",
        "      img_path = os.path.join(path, img)\n",
        "      if grayscale==True:\n",
        "        img = cv2.imread(img_path, cv2.IMREAD_GRAYSCALE)\n",
        "      else : img = cv2.imread(img_path)\n",
        "      images.append([np.array(img)])\n",
        "      labels.append([np.array(onehot_encoded[idx])])\n",
        "      \n",
        "  images = np.reshape(images,(-1,4096)).astype(np.float32)\n",
        "  labels = np.reshape(labels,(-1,3)).astype(np.float32)\n",
        "  print('DONE!',dir)\n",
        "  \n",
        "  return images, labels"
      ],
      "execution_count": 0,
      "outputs": []
    },
    {
      "metadata": {
        "id": "39BRrHDvtTWZ",
        "colab_type": "code",
        "outputId": "8f9dec7f-0419-4a51-a299-12cd49df3a8f",
        "colab": {
          "base_uri": "https://localhost:8080/",
          "height": 325
        }
      },
      "cell_type": "code",
      "source": [
        "g_TRAIN_DIR = '/content/drive/My Drive/vinzip/vinzip/trainingSet/'\n",
        "g_TEST_DIR ='/content/drive/My Drive/vinzip/vinzip/testSet/'\n",
        "\n",
        "train_input, train_label = img_to_array(g_TRAIN_DIR)\n",
        "test_input, test_label = img_to_array(g_TEST_DIR)"
      ],
      "execution_count": 0,
      "outputs": [
        {
          "output_type": "stream",
          "text": [
            "/usr/local/lib/python3.6/dist-packages/sklearn/preprocessing/_encoders.py:368: FutureWarning: The handling of integer data will change in version 0.22. Currently, the categories are determined based on the range [0, max(values)], while in the future they will be determined based on the unique values.\n",
            "If you want the future behaviour and silence this warning, you can specify \"categories='auto'\".\n",
            "In case you used a LabelEncoder before this OneHotEncoder to convert the categories to integers, then you can now use the OneHotEncoder directly.\n",
            "  warnings.warn(msg, FutureWarning)\n"
          ],
          "name": "stderr"
        },
        {
          "output_type": "stream",
          "text": [
            "------ loding... ------- /content/drive/My Drive/vinzip/vinzip/trainingSet/outer/\n",
            "------ loding... ------- /content/drive/My Drive/vinzip/vinzip/trainingSet/top/\n",
            "------ loding... ------- /content/drive/My Drive/vinzip/vinzip/trainingSet/bottom/\n",
            "DONE! /content/drive/My Drive/vinzip/vinzip/trainingSet/\n"
          ],
          "name": "stdout"
        },
        {
          "output_type": "stream",
          "text": [
            "/usr/local/lib/python3.6/dist-packages/sklearn/preprocessing/_encoders.py:368: FutureWarning: The handling of integer data will change in version 0.22. Currently, the categories are determined based on the range [0, max(values)], while in the future they will be determined based on the unique values.\n",
            "If you want the future behaviour and silence this warning, you can specify \"categories='auto'\".\n",
            "In case you used a LabelEncoder before this OneHotEncoder to convert the categories to integers, then you can now use the OneHotEncoder directly.\n",
            "  warnings.warn(msg, FutureWarning)\n"
          ],
          "name": "stderr"
        },
        {
          "output_type": "stream",
          "text": [
            "------ loding... ------- /content/drive/My Drive/vinzip/vinzip/testSet/outer/\n",
            "------ loding... ------- /content/drive/My Drive/vinzip/vinzip/testSet/top/\n",
            "------ loding... ------- /content/drive/My Drive/vinzip/vinzip/testSet/bottom/\n",
            "DONE! /content/drive/My Drive/vinzip/vinzip/testSet/\n"
          ],
          "name": "stdout"
        }
      ]
    },
    {
      "metadata": {
        "id": "L1QmCyXY7eHZ",
        "colab_type": "code",
        "outputId": "05ee6119-671a-4f0e-b7ec-7b577039d1f4",
        "colab": {
          "base_uri": "https://localhost:8080/",
          "height": 89
        }
      },
      "cell_type": "code",
      "source": [
        "# Shapes of training set\n",
        "print(\"Training set (images) shape: {shape}\".format(shape=train_input.shape))\n",
        "print(\"Training set (labels) shape: {shape}\".format(shape=train_label.shape))\n",
        "\n",
        "# Shapes of test set\n",
        "print(\"Test set (images) shape: {shape}\".format(shape=test_input.shape))\n",
        "print(\"Test set (labels) shape: {shape}\".format(shape=test_label.shape))"
      ],
      "execution_count": 0,
      "outputs": [
        {
          "output_type": "stream",
          "text": [
            "Training set (images) shape: (6000, 4096)\n",
            "Training set (labels) shape: (6000, 3)\n",
            "Test set (images) shape: (1300, 4096)\n",
            "Test set (labels) shape: (1300, 3)\n"
          ],
          "name": "stdout"
        }
      ]
    },
    {
      "metadata": {
        "id": "-T8UqNQEuKEN",
        "colab_type": "code",
        "outputId": "53faeb19-4766-4ae1-ee3e-ff0a669c4688",
        "colab": {
          "base_uri": "https://localhost:8080/",
          "height": 208
        }
      },
      "cell_type": "code",
      "source": [
        "plt.figure(figsize=[5,5])\n",
        "\n",
        "# Display the first image in training data\n",
        "plt.subplot(121)\n",
        "curr_img = np.reshape(train_input[0], (64,64))\n",
        "curr_lbl = np.argmax(train_label[0,:])\n",
        "plt.imshow(curr_img, cmap='gray')\n",
        "plt.title(\"(Label: \" + str(label_dict[curr_lbl]) + \")\")\n",
        "\n",
        "# Display the first image in testing data\n",
        "plt.subplot(122)\n",
        "curr_img = np.reshape(train_input[4000], (64,64))\n",
        "curr_lbl = np.argmax(train_label[4000,:])\n",
        "plt.imshow(curr_img, cmap='gray')\n",
        "plt.title(\"(Label: \" + str(label_dict[curr_lbl]) + \")\")"
      ],
      "execution_count": 0,
      "outputs": [
        {
          "output_type": "execute_result",
          "data": {
            "text/plain": [
              "Text(0.5,1,'(Label: top)')"
            ]
          },
          "metadata": {
            "tags": []
          },
          "execution_count": 7
        },
        {
          "output_type": "display_data",
          "data": {
            "image/png": "[encoded data removed]",
            "text/plain": [
              "<matplotlib.figure.Figure at 0x7f68e289cef0>"
            ]
          },
          "metadata": {
            "tags": []
          }
        }
      ]
    },
    {
      "metadata": {
        "id": "pAs8VULv_0g0",
        "colab_type": "code",
        "outputId": "307e0706-525b-4c61-f6be-6fd7d8df9206",
        "colab": {
          "base_uri": "https://localhost:8080/",
          "height": 53
        }
      },
      "cell_type": "code",
      "source": [
        "train_X = train_input.reshape(-1, 64, 64, 1)\n",
        "test_X = test_input.reshape(-1,64, 64,1)\n",
        "print(train_X.shape, test_X.shape)\n",
        "\n",
        "train_y = train_label\n",
        "test_y = test_label\n",
        "print(train_y.shape, test_y.shape)\n"
      ],
      "execution_count": 0,
      "outputs": [
        {
          "output_type": "stream",
          "text": [
            "(6000, 64, 64, 1) (1300, 64, 64, 1)\n",
            "(6000, 3) (1300, 3)\n"
          ],
          "name": "stdout"
        }
      ]
    },
    {
      "metadata": {
        "id": "5GpFwRiBJ0ka",
        "colab_type": "text"
      },
      "cell_type": "markdown",
      "source": [
        "## 1st try\n",
        "> 1.   training_iters = 200 ,\n",
        "learning_rate = 0.001 ,\n",
        "batch_size = 600\n",
        "\n",
        "> 2.   xavier_initializer\n",
        "\n",
        "> 3. dropout X\n",
        "\n",
        "> 4. ReLU 사용\n",
        "\n",
        "> 5. Adam optimizer\n",
        "\n",
        "**result**\n",
        "\n",
        "> Iter 200, Loss= 0.000125, Training Accuracy= 1.00000\n",
        "\n",
        "> Testing Accuracy: 0.80769\n",
        "\n",
        "> :: *overfitting*\n",
        "\n"
      ]
    },
    {
      "metadata": {
        "id": "i0rFmE5k7uGF",
        "colab_type": "code",
        "colab": {}
      },
      "cell_type": "code",
      "source": [
        "tf.reset_default_graph()\n",
        "sess = tf.Session()\n",
        "sess.run(tf.global_variables_initializer())\n",
        "\n",
        "tf.reset_default_graph()\n",
        "a = tf.constant([1, 1, 1, 1, 1], dtype=tf.float32)\n",
        "graph_level_seed = 1\n",
        "operation_level_seed = 1\n",
        "tf.set_random_seed(graph_level_seed)\n",
        "b = tf.nn.dropout(a, 0.5, seed=operation_level_seed)\n",
        "\n",
        "\n",
        "training_iters = 200 \n",
        "learning_rate = 0.001 \n",
        "batch_size = 600\n",
        "\n",
        "#data input\n",
        "n_input = 64\n",
        "\n",
        "#total classes\n",
        "n_classes = 3\n",
        "\n",
        "\n",
        "#both placeholders are of type float\n",
        "x = tf.placeholder(\"float\", [None, n_input, n_input,1])\n",
        "y = tf.placeholder(\"float\", [None, n_classes])\n",
        "\n",
        "\n",
        "def conv2d(x, W, b, strides=1):\n",
        "    # Conv2D wrapper, with bias and relu activation\n",
        "    x = tf.nn.conv2d(x, W, strides=[1, strides, strides, 1], padding='SAME')\n",
        "    x = tf.nn.bias_add(x, b)\n",
        "    return tf.nn.relu(x) \n",
        "\n",
        "  \n",
        "def maxpool2d(x, k=2):\n",
        "    return tf.nn.max_pool(x, ksize=[1, k, k, 1], strides=[1, k, k, 1],padding='SAME')\n",
        "  \n",
        "def dropout2d(x, prob_conv=0.8):\n",
        "  return tf.nn.dropout(x,prob_conv)\n",
        "  \n",
        "weights = {\n",
        "    'wc1': tf.get_variable('W0', shape=(3,3,1,32), initializer=tf.contrib.layers.xavier_initializer()), \n",
        "    'wc2': tf.get_variable('W1', shape=(3,3,32,64), initializer=tf.contrib.layers.xavier_initializer()), \n",
        "    'wc3': tf.get_variable('W2', shape=(3,3,64,128), initializer=tf.contrib.layers.xavier_initializer()), \n",
        "    'wd1': tf.get_variable('W3', shape=(8*8*128,128), initializer=tf.contrib.layers.xavier_initializer()), \n",
        "    'out': tf.get_variable('W6', shape=(128,n_classes), initializer=tf.contrib.layers.xavier_initializer()), \n",
        "}\n",
        "biases = {\n",
        "    'bc1': tf.get_variable('B0', shape=(32), initializer=tf.contrib.layers.xavier_initializer()),\n",
        "    'bc2': tf.get_variable('B1', shape=(64), initializer=tf.contrib.layers.xavier_initializer()),\n",
        "    'bc3': tf.get_variable('B2', shape=(128), initializer=tf.contrib.layers.xavier_initializer()),\n",
        "    'bd1': tf.get_variable('B3', shape=(128), initializer=tf.contrib.layers.xavier_initializer()),\n",
        "    'out': tf.get_variable('B4', shape=(n_classes), initializer=tf.contrib.layers.xavier_initializer()),\n",
        "}\n",
        "\n",
        "def conv_net(x, weights, biases):  \n",
        "\n",
        "    # here we call the conv2d function we had defined above and pass the input image x, weights wc1 and bias bc1.\n",
        "    conv1 = conv2d(x, weights['wc1'], biases['bc1'])\n",
        "    # Max Pooling (down-sampling), this chooses the max value from a 2*2 matrix window and outputs a 14*14 matrix.\n",
        "    conv1 = maxpool2d(conv1, k=2)\n",
        "\n",
        "    # Convolution Layer\n",
        "    # here we call the conv2d function we had defined above and pass the input image x, weights wc2 and bias bc2.\n",
        "    conv2 = conv2d(conv1, weights['wc2'], biases['bc2'])\n",
        "    # Max Pooling (down-sampling), this chooses the max value from a 2*2 matrix window and outputs a 7*7 matrix.\n",
        "    conv2 = maxpool2d(conv2, k=2)\n",
        "\n",
        "    conv3 = conv2d(conv2, weights['wc3'], biases['bc3'])\n",
        "    # Max Pooling (down-sampling), this chooses the max value from a 2*2 matrix window and outputs a 4*4.\n",
        "    conv3 = maxpool2d(conv3, k=2)\n",
        "\n",
        "\n",
        "    # Fully connected layer\n",
        "    # Reshape conv2 output to fit fully connected layer input\n",
        "    fc1 = tf.reshape(conv3, [-1, weights['wd1'].get_shape().as_list()[0]])\n",
        "    fc1 = tf.add(tf.matmul(fc1, weights['wd1']), biases['bd1'])\n",
        "    fc1 = tf.nn.relu(fc1)\n",
        "    # Output, class prediction\n",
        "    # finally we multiply the fully connected layer with the weights and add a bias term. \n",
        "    out = tf.add(tf.matmul(fc1, weights['out']), biases['out'])\n",
        "    return out\n",
        "  \n",
        "  \n",
        "  \n",
        "pred = conv_net(x, weights, biases)\n",
        "\n",
        "cost = tf.reduce_mean(tf.nn.softmax_cross_entropy_with_logits(logits=pred, labels=y))\n",
        "\n",
        "optimizer = tf.train.AdamOptimizer(learning_rate=learning_rate).minimize(cost)\n",
        "\n",
        "\n",
        "#Here you check whether the index of the maximum value of the predicted image is equal to the actual labelled image. and both will be a column vector.\n",
        "correct_prediction = tf.equal(tf.argmax(pred, 1), tf.argmax(y, 1))\n",
        "\n",
        "#calculate accuracy across all the given images and average them out. \n",
        "accuracy = tf.reduce_mean(tf.cast(correct_prediction, tf.float32))\n",
        "\n",
        "\n",
        "# Initializing the variables\n",
        "init = tf.global_variables_initializer()"
      ],
      "execution_count": 0,
      "outputs": []
    },
    {
      "metadata": {
        "id": "jLBynkfX-du9",
        "colab_type": "code",
        "outputId": "02fb09fe-a088-49fe-e6b1-987f8274a10a",
        "colab": {
          "base_uri": "https://localhost:8080/",
          "height": 1097
        }
      },
      "cell_type": "code",
      "source": [
        "with tf.Session() as sess:\n",
        "    sess.run(init) \n",
        "    train_loss = []\n",
        "    test_loss = []\n",
        "    train_accuracy = []\n",
        "    test_accuracy = []\n",
        "    summary_writer = tf.summary.FileWriter('./Output', sess.graph)\n",
        "    for i in range(1,training_iters+1):\n",
        "        for batch in range(len(train_X)//batch_size):\n",
        "            batch_x = train_X[batch*batch_size:min((batch+1)*batch_size,len(train_X))]\n",
        "            batch_y = train_y[batch*batch_size:min((batch+1)*batch_size,len(train_y))]    \n",
        "            # Run optimization op (backprop).\n",
        "                # Calculate batch loss and accuracy\n",
        "            opt = sess.run(optimizer, feed_dict={x: batch_x,\n",
        "                                                              y: batch_y})\n",
        "            loss, acc = sess.run([cost, accuracy], feed_dict={x: batch_x,\n",
        "                                                              y: batch_y})\n",
        "        if i%10==0 :\n",
        "          print(\"Iter \" + str(i) + \", Loss= \" + \\\n",
        "                        \"{:.6f}\".format(loss) + \", Training Accuracy= \" + \\\n",
        "                        \"{:.5f}\".format(acc))\n",
        "          print(\"Optimization Finished!\")\n",
        "\n",
        "          # Calculate accuracy for all test images\n",
        "          test_acc,valid_loss = sess.run([accuracy,cost], feed_dict={x: test_X, y: test_y})\n",
        "          train_loss.append(loss)\n",
        "          test_loss.append(valid_loss)\n",
        "          train_accuracy.append(acc)\n",
        "          test_accuracy.append(test_acc)\n",
        "          print(\"Testing Accuracy:\",\"{:.5f}\".format(test_acc))\n",
        "    results = sess.run(correct_prediction,feed_dict={ x: test_X, y: test_y})\n",
        "    summary_writer.close()"
      ],
      "execution_count": 0,
      "outputs": [
        {
          "output_type": "stream",
          "text": [
            "Iter 10, Loss= 0.649779, Training Accuracy= 0.64833\n",
            "Optimization Finished!\n",
            "Testing Accuracy: 0.58385\n",
            "Iter 20, Loss= 0.494111, Training Accuracy= 0.75333\n",
            "Optimization Finished!\n",
            "Testing Accuracy: 0.64538\n",
            "Iter 30, Loss= 0.335324, Training Accuracy= 0.80500\n",
            "Optimization Finished!\n",
            "Testing Accuracy: 0.69538\n",
            "Iter 40, Loss= 0.329116, Training Accuracy= 0.82500\n",
            "Optimization Finished!\n",
            "Testing Accuracy: 0.64615\n",
            "Iter 50, Loss= 0.154772, Training Accuracy= 0.94167\n",
            "Optimization Finished!\n",
            "Testing Accuracy: 0.68077\n",
            "Iter 60, Loss= 0.065993, Training Accuracy= 0.97667\n",
            "Optimization Finished!\n",
            "Testing Accuracy: 0.72077\n",
            "Iter 70, Loss= 0.047988, Training Accuracy= 0.98333\n",
            "Optimization Finished!\n",
            "Testing Accuracy: 0.76385\n",
            "Iter 80, Loss= 0.034445, Training Accuracy= 0.98833\n",
            "Optimization Finished!\n",
            "Testing Accuracy: 0.76769\n",
            "Iter 90, Loss= 0.022543, Training Accuracy= 0.99167\n",
            "Optimization Finished!\n",
            "Testing Accuracy: 0.78000\n",
            "Iter 100, Loss= 0.018732, Training Accuracy= 0.99667\n",
            "Optimization Finished!\n",
            "Testing Accuracy: 0.77154\n",
            "Iter 110, Loss= 0.010431, Training Accuracy= 0.99833\n",
            "Optimization Finished!\n",
            "Testing Accuracy: 0.77846\n",
            "Iter 120, Loss= 0.006664, Training Accuracy= 0.99833\n",
            "Optimization Finished!\n",
            "Testing Accuracy: 0.78923\n",
            "Iter 130, Loss= 0.002940, Training Accuracy= 1.00000\n",
            "Optimization Finished!\n",
            "Testing Accuracy: 0.78846\n",
            "Iter 140, Loss= 0.001769, Training Accuracy= 1.00000\n",
            "Optimization Finished!\n",
            "Testing Accuracy: 0.80077\n",
            "Iter 150, Loss= 0.001159, Training Accuracy= 1.00000\n",
            "Optimization Finished!\n",
            "Testing Accuracy: 0.79923\n",
            "Iter 160, Loss= 0.000761, Training Accuracy= 1.00000\n",
            "Optimization Finished!\n",
            "Testing Accuracy: 0.79923\n",
            "Iter 170, Loss= 0.000384, Training Accuracy= 1.00000\n",
            "Optimization Finished!\n",
            "Testing Accuracy: 0.80385\n",
            "Iter 180, Loss= 0.000275, Training Accuracy= 1.00000\n",
            "Optimization Finished!\n",
            "Testing Accuracy: 0.80538\n",
            "Iter 190, Loss= 0.000175, Training Accuracy= 1.00000\n",
            "Optimization Finished!\n",
            "Testing Accuracy: 0.80615\n",
            "Iter 200, Loss= 0.000125, Training Accuracy= 1.00000\n",
            "Optimization Finished!\n",
            "Testing Accuracy: 0.80769\n"
          ],
          "name": "stdout"
        }
      ]
    },
    {
      "metadata": {
        "id": "NZIoBnPAHutw",
        "colab_type": "code",
        "outputId": "9af82e3d-7835-4595-be59-ac4cbdb8570e",
        "colab": {
          "base_uri": "https://localhost:8080/",
          "height": 399
        }
      },
      "cell_type": "code",
      "source": [
        "plt.plot(range(len(train_loss)), train_loss, 'b', label='Training loss')\n",
        "plt.plot(range(len(train_loss)), test_loss, 'r', label='Test loss')\n",
        "plt.title('Training and Test loss')\n",
        "plt.xlabel('Epochs ',fontsize=16)\n",
        "plt.ylabel('Loss',fontsize=16)\n",
        "plt.legend()\n",
        "plt.figure()\n",
        "plt.show()"
      ],
      "execution_count": 0,
      "outputs": [
        {
          "output_type": "display_data",
          "data": {
            "image/png": "[encoded data removed]",
            "text/plain": [
              "<matplotlib.figure.Figure at 0x7fbdcef11c18>"
            ]
          },
          "metadata": {
            "tags": []
          }
        },
        {
          "output_type": "display_data",
          "data": {
            "text/plain": [
              "<matplotlib.figure.Figure at 0x7fbdc6c8a320>"
            ]
          },
          "metadata": {
            "tags": []
          }
        }
      ]
    },
    {
      "metadata": {
        "id": "5wX58HNrHxW7",
        "colab_type": "code",
        "outputId": "4394022e-41e5-4910-cfb9-5abe717cd7d5",
        "colab": {
          "base_uri": "https://localhost:8080/",
          "height": 417
        }
      },
      "cell_type": "code",
      "source": [
        "plt.plot(range(len(train_loss)), train_accuracy, 'b', label='Training Accuracy')\n",
        "plt.plot(range(len(train_loss)), test_accuracy, 'r', label='Test Accuracy')\n",
        "plt.title('Training and Test Accuracy')\n",
        "plt.xlabel('Epochs ',fontsize=16)\n",
        "plt.ylabel('Loss',fontsize=16)\n",
        "plt.legend()\n",
        "plt.figure()"
      ],
      "execution_count": 0,
      "outputs": [
        {
          "output_type": "execute_result",
          "data": {
            "text/plain": [
              "<matplotlib.figure.Figure at 0x7fbdcd17d438>"
            ]
          },
          "metadata": {
            "tags": []
          },
          "execution_count": 58
        },
        {
          "output_type": "display_data",
          "data": {
            "image/png": "[encoded data removed]",
            "text/plain": [
              "<matplotlib.figure.Figure at 0x7fbdc6a086a0>"
            ]
          },
          "metadata": {
            "tags": []
          }
        },
        {
          "output_type": "display_data",
          "data": {
            "text/plain": [
              "<matplotlib.figure.Figure at 0x7fbdcd17d438>"
            ]
          },
          "metadata": {
            "tags": []
          }
        }
      ]
    },
    {
      "metadata": {
        "id": "ot-4aGNPK44A",
        "colab_type": "code",
        "colab": {}
      },
      "cell_type": "code",
      "source": [
        ""
      ],
      "execution_count": 0,
      "outputs": []
    },
    {
      "metadata": {
        "id": "Nx2WCmIBNr6w",
        "colab_type": "text"
      },
      "cell_type": "markdown",
      "source": [
        "## 2nd try\n",
        "> 1.   training_iters = 200 ,  \n",
        "learning_rate = 0.001 ,  \n",
        "batch_size = 600\n",
        "\n",
        "> 2.   xavier_initializer\n",
        "\n",
        ">  **3. dropout O** \n",
        "\n",
        "> 4. ReLU 사용\n",
        "\n",
        "> 5. Adam optimizer\n",
        "\n",
        "**result**\n",
        "> Iter 200, Loss= 0.089924, Training Accuracy= 0.97167\n",
        "\n",
        "> Testing Accuracy: 0.75462\n",
        "\n",
        "\n"
      ]
    },
    {
      "metadata": {
        "id": "iDW5gI13PJg8",
        "colab_type": "code",
        "colab": {}
      },
      "cell_type": "code",
      "source": [
        "tf.reset_default_graph()\n",
        "sess = tf.Session()\n",
        "sess.run(tf.global_variables_initializer())\n",
        "\n",
        "tf.reset_default_graph()\n",
        "a = tf.constant([1, 1, 1, 1, 1], dtype=tf.float32)\n",
        "graph_level_seed = 1\n",
        "operation_level_seed = 1\n",
        "tf.set_random_seed(graph_level_seed)\n",
        "b = tf.nn.dropout(a, 0.5, seed=operation_level_seed)\n",
        "\n",
        "\n",
        "training_iters = 200 \n",
        "learning_rate = 0.001 \n",
        "batch_size = 600\n",
        "\n",
        "#data input\n",
        "n_input = 64\n",
        "\n",
        "#total classes\n",
        "n_classes = 3\n",
        "\n",
        "\n",
        "#both placeholders are of type float\n",
        "x = tf.placeholder(\"float\", [None, n_input, n_input,1])\n",
        "y = tf.placeholder(\"float\", [None, n_classes])\n",
        "\n",
        "\n",
        "def conv2d(x, W, b, strides=1):\n",
        "    # Conv2D wrapper, with bias and relu activation\n",
        "    x = tf.nn.conv2d(x, W, strides=[1, strides, strides, 1], padding='SAME')\n",
        "    x = tf.nn.bias_add(x, b)\n",
        "    return tf.nn.relu(x) \n",
        "\n",
        "  \n",
        "def maxpool2d(x, k=2):\n",
        "    return tf.nn.max_pool(x, ksize=[1, k, k, 1], strides=[1, k, k, 1],padding='SAME')\n",
        "  \n",
        "def dropout2d(x, prob_conv=0.8):\n",
        "  return tf.nn.dropout(x,prob_conv)\n",
        "  \n",
        "weights = {\n",
        "    'wc1': tf.get_variable('W0', shape=(3,3,1,32), initializer=tf.contrib.layers.xavier_initializer()), \n",
        "    'wc2': tf.get_variable('W1', shape=(3,3,32,64), initializer=tf.contrib.layers.xavier_initializer()), \n",
        "    'wc3': tf.get_variable('W2', shape=(3,3,64,128), initializer=tf.contrib.layers.xavier_initializer()), \n",
        "    'wd1': tf.get_variable('W3', shape=(8*8*128,128), initializer=tf.contrib.layers.xavier_initializer()), \n",
        "    'out': tf.get_variable('W6', shape=(128,n_classes), initializer=tf.contrib.layers.xavier_initializer()), \n",
        "}\n",
        "biases = {\n",
        "    'bc1': tf.get_variable('B0', shape=(32), initializer=tf.contrib.layers.xavier_initializer()),\n",
        "    'bc2': tf.get_variable('B1', shape=(64), initializer=tf.contrib.layers.xavier_initializer()),\n",
        "    'bc3': tf.get_variable('B2', shape=(128), initializer=tf.contrib.layers.xavier_initializer()),\n",
        "    'bd1': tf.get_variable('B3', shape=(128), initializer=tf.contrib.layers.xavier_initializer()),\n",
        "    'out': tf.get_variable('B4', shape=(n_classes), initializer=tf.contrib.layers.xavier_initializer()),\n",
        "}\n",
        "\n",
        "def conv_net(x, weights, biases, dropout=False):  \n",
        "\n",
        "    conv1 = conv2d(x, weights['wc1'], biases['bc1'])\n",
        "    conv1 = maxpool2d(conv1, k=2)\n",
        "#     if dropout==True:\n",
        "#       conv1 = dropout2d(conv1)\n",
        "\n",
        "    conv2 = conv2d(conv1, weights['wc2'], biases['bc2'])\n",
        "    conv2 = maxpool2d(conv2, k=2)\n",
        "#     if dropout==True:\n",
        "#       conv2 = dropout2d(conv2)\n",
        "\n",
        "    conv3 = conv2d(conv2, weights['wc3'], biases['bc3'])\n",
        "    conv3 = maxpool2d(conv3, k=2)\n",
        "    if dropout==True:\n",
        "      conv3 = dropout2d(conv3,prob_conv=0.5)\n",
        "\n",
        "    fc1 = tf.reshape(conv3, [-1, weights['wd1'].get_shape().as_list()[0]])\n",
        "    fc1 = tf.add(tf.matmul(fc1, weights['wd1']), biases['bd1'])\n",
        "    fc1 = tf.nn.relu(fc1)\n",
        "    # Output, class prediction\n",
        "    # finally we multiply the fully connected layer with the weights and add a bias term. \n",
        "    out = tf.add(tf.matmul(fc1, weights['out']), biases['out'])\n",
        "    return out\n",
        "  \n",
        "  \n",
        "  \n",
        "pred = conv_net(x, weights, biases, dropout=True)\n",
        "\n",
        "cost = tf.reduce_mean(tf.nn.softmax_cross_entropy_with_logits(logits=pred, labels=y))\n",
        "\n",
        "optimizer = tf.train.AdamOptimizer(learning_rate=learning_rate).minimize(cost)\n",
        "\n",
        "\n",
        "#Here you check whether the index of the maximum value of the predicted image is equal to the actual labelled image. and both will be a column vector.\n",
        "correct_prediction = tf.equal(tf.argmax(pred, 1), tf.argmax(y, 1))\n",
        "\n",
        "#calculate accuracy across all the given images and average them out. \n",
        "accuracy = tf.reduce_mean(tf.cast(correct_prediction, tf.float32))\n",
        "\n",
        "\n",
        "# Initializing the variables\n",
        "init = tf.global_variables_initializer()"
      ],
      "execution_count": 0,
      "outputs": []
    },
    {
      "metadata": {
        "id": "bCMx3htbNjAP",
        "colab_type": "code",
        "outputId": "05907c43-a08f-450b-8c79-d05964a9133e",
        "colab": {
          "base_uri": "https://localhost:8080/",
          "height": 1097
        }
      },
      "cell_type": "code",
      "source": [
        "with tf.Session() as sess:\n",
        "    sess.run(init) \n",
        "    train_loss = []\n",
        "    test_loss = []\n",
        "    train_accuracy = []\n",
        "    test_accuracy = []\n",
        "    summary_writer = tf.summary.FileWriter('./Output', sess.graph)\n",
        "    for i in range(1,training_iters+1):\n",
        "        for batch in range(len(train_X)//batch_size):\n",
        "            batch_x = train_X[batch*batch_size:min((batch+1)*batch_size,len(train_X))]\n",
        "            batch_y = train_y[batch*batch_size:min((batch+1)*batch_size,len(train_y))]    \n",
        "            # Run optimization op (backprop).\n",
        "                # Calculate batch loss and accuracy\n",
        "            opt = sess.run(optimizer, feed_dict={x: batch_x,\n",
        "                                                              y: batch_y})\n",
        "            loss, acc = sess.run([cost, accuracy], feed_dict={x: batch_x,\n",
        "                                                              y: batch_y})\n",
        "        if i%10==0 :\n",
        "          print(\"Iter \" + str(i) + \", Loss= \" + \\\n",
        "                        \"{:.6f}\".format(loss) + \", Training Accuracy= \" + \\\n",
        "                        \"{:.5f}\".format(acc))\n",
        "          print(\"Optimization Finished!\")\n",
        "\n",
        "          # Calculate accuracy for all test images\n",
        "          test_acc,valid_loss = sess.run([accuracy,cost], feed_dict={x: test_X, y: test_y})\n",
        "          train_loss.append(loss)\n",
        "          test_loss.append(valid_loss)\n",
        "          train_accuracy.append(acc)\n",
        "          test_accuracy.append(test_acc)\n",
        "          print(\"Testing Accuracy:\",\"{:.5f}\".format(test_acc))\n",
        "    results = sess.run(correct_prediction,feed_dict={ x: test_X, y: test_y})\n",
        "    summary_writer.close()"
      ],
      "execution_count": 0,
      "outputs": [
        {
          "output_type": "stream",
          "text": [
            "Iter 10, Loss= 0.732341, Training Accuracy= 0.64833\n",
            "Optimization Finished!\n",
            "Testing Accuracy: 0.58231\n",
            "Iter 20, Loss= 0.510157, Training Accuracy= 0.76333\n",
            "Optimization Finished!\n",
            "Testing Accuracy: 0.63462\n",
            "Iter 30, Loss= 0.365239, Training Accuracy= 0.83500\n",
            "Optimization Finished!\n",
            "Testing Accuracy: 0.66000\n",
            "Iter 40, Loss= 0.259229, Training Accuracy= 0.89833\n",
            "Optimization Finished!\n",
            "Testing Accuracy: 0.69308\n",
            "Iter 50, Loss= 0.516568, Training Accuracy= 0.76000\n",
            "Optimization Finished!\n",
            "Testing Accuracy: 0.64846\n",
            "Iter 60, Loss= 0.279354, Training Accuracy= 0.88167\n",
            "Optimization Finished!\n",
            "Testing Accuracy: 0.70000\n",
            "Iter 70, Loss= 0.268423, Training Accuracy= 0.88833\n",
            "Optimization Finished!\n",
            "Testing Accuracy: 0.71538\n",
            "Iter 80, Loss= 0.192545, Training Accuracy= 0.93000\n",
            "Optimization Finished!\n",
            "Testing Accuracy: 0.71923\n",
            "Iter 90, Loss= 0.114573, Training Accuracy= 0.94667\n",
            "Optimization Finished!\n",
            "Testing Accuracy: 0.71846\n",
            "Iter 100, Loss= 0.112809, Training Accuracy= 0.97000\n",
            "Optimization Finished!\n",
            "Testing Accuracy: 0.71923\n",
            "Iter 110, Loss= 0.069660, Training Accuracy= 0.97333\n",
            "Optimization Finished!\n",
            "Testing Accuracy: 0.73385\n",
            "Iter 120, Loss= 0.060899, Training Accuracy= 0.97500\n",
            "Optimization Finished!\n",
            "Testing Accuracy: 0.75154\n",
            "Iter 130, Loss= 0.047762, Training Accuracy= 0.98500\n",
            "Optimization Finished!\n",
            "Testing Accuracy: 0.74385\n",
            "Iter 140, Loss= 0.057932, Training Accuracy= 0.97667\n",
            "Optimization Finished!\n",
            "Testing Accuracy: 0.76538\n",
            "Iter 150, Loss= 0.050124, Training Accuracy= 0.98333\n",
            "Optimization Finished!\n",
            "Testing Accuracy: 0.77385\n",
            "Iter 160, Loss= 0.030675, Training Accuracy= 0.99000\n",
            "Optimization Finished!\n",
            "Testing Accuracy: 0.77077\n",
            "Iter 170, Loss= 0.021079, Training Accuracy= 0.99333\n",
            "Optimization Finished!\n",
            "Testing Accuracy: 0.77923\n",
            "Iter 180, Loss= 0.013151, Training Accuracy= 0.99667\n",
            "Optimization Finished!\n",
            "Testing Accuracy: 0.77769\n",
            "Iter 190, Loss= 0.031505, Training Accuracy= 0.98667\n",
            "Optimization Finished!\n",
            "Testing Accuracy: 0.78308\n",
            "Iter 200, Loss= 0.011557, Training Accuracy= 0.99333\n",
            "Optimization Finished!\n",
            "Testing Accuracy: 0.77692\n"
          ],
          "name": "stdout"
        }
      ]
    },
    {
      "metadata": {
        "id": "KwoPGI8HN9bZ",
        "colab_type": "code",
        "outputId": "8af749bc-fe51-4605-cd01-7b2c2adc9842",
        "colab": {
          "base_uri": "https://localhost:8080/",
          "height": 399
        }
      },
      "cell_type": "code",
      "source": [
        "plt.plot(range(len(train_loss)), train_loss, 'b', label='Training loss')\n",
        "plt.plot(range(len(train_loss)), test_loss, 'r', label='Test loss')\n",
        "plt.title('Training and Test loss')\n",
        "plt.xlabel('Epochs ',fontsize=16)\n",
        "plt.ylabel('Loss',fontsize=16)\n",
        "plt.legend()\n",
        "plt.figure()\n",
        "plt.show()"
      ],
      "execution_count": 0,
      "outputs": [
        {
          "output_type": "display_data",
          "data": {
            "image/png": "[encoded data removed]",
            "text/plain": [
              "<matplotlib.figure.Figure at 0x7fbdc7648358>"
            ]
          },
          "metadata": {
            "tags": []
          }
        },
        {
          "output_type": "display_data",
          "data": {
            "text/plain": [
              "<matplotlib.figure.Figure at 0x7fbdced766d8>"
            ]
          },
          "metadata": {
            "tags": []
          }
        }
      ]
    },
    {
      "metadata": {
        "id": "rGfQALbCN-FV",
        "colab_type": "code",
        "outputId": "9c0cb91b-b72b-4182-bc7b-c49308c40405",
        "colab": {
          "base_uri": "https://localhost:8080/",
          "height": 417
        }
      },
      "cell_type": "code",
      "source": [
        "plt.plot(range(len(train_loss)), train_accuracy, 'b', label='Training Accuracy')\n",
        "plt.plot(range(len(train_loss)), test_accuracy, 'r', label='Test Accuracy')\n",
        "plt.title('Training and Test Accuracy')\n",
        "plt.xlabel('Epochs ',fontsize=16)\n",
        "plt.ylabel('Loss',fontsize=16)\n",
        "plt.legend()\n",
        "plt.figure()"
      ],
      "execution_count": 0,
      "outputs": [
        {
          "output_type": "execute_result",
          "data": {
            "text/plain": [
              "<matplotlib.figure.Figure at 0x7fbdc6aa4908>"
            ]
          },
          "metadata": {
            "tags": []
          },
          "execution_count": 72
        },
        {
          "output_type": "display_data",
          "data": {
            "image/png": "[encoded data removed]",
            "text/plain": [
              "<matplotlib.figure.Figure at 0x7fbdcefb26d8>"
            ]
          },
          "metadata": {
            "tags": []
          }
        },
        {
          "output_type": "display_data",
          "data": {
            "text/plain": [
              "<matplotlib.figure.Figure at 0x7fbdc6aa4908>"
            ]
          },
          "metadata": {
            "tags": []
          }
        }
      ]
    },
    {
      "metadata": {
        "id": "fEzF6Gm8RL47",
        "colab_type": "text"
      },
      "cell_type": "markdown",
      "source": [
        "## 3rd try\n",
        "> 1.   training_iters = 200 ,\n",
        "learning_rate = 0.001 ,\n",
        "batch_size = 600\n",
        "\n",
        "> 2.   xavier_initializer\n",
        "\n",
        ">  3. dropout X\n",
        "\n",
        "> 4. ReLU 사용\n",
        "\n",
        "> **5. RMSProp optimizer**\n",
        "\n",
        "**result**\n",
        "\n",
        "> Iter 200, Loss= 0.000000, Training Accuracy= 1.00000  \n",
        "Testing Accuracy: 0.85462\n",
        "\n",
        "\n"
      ]
    },
    {
      "metadata": {
        "id": "z_0DKTt3QV5K",
        "colab_type": "code",
        "colab": {}
      },
      "cell_type": "code",
      "source": [
        "tf.reset_default_graph()\n",
        "sess = tf.Session()\n",
        "sess.run(tf.global_variables_initializer())\n",
        "\n",
        "tf.reset_default_graph()\n",
        "a = tf.constant([1, 1, 1, 1, 1], dtype=tf.float32)\n",
        "graph_level_seed = 1\n",
        "operation_level_seed = 1\n",
        "tf.set_random_seed(graph_level_seed)\n",
        "b = tf.nn.dropout(a, 0.5, seed=operation_level_seed)\n",
        "\n",
        "\n",
        "training_iters = 200 \n",
        "learning_rate = 0.001 \n",
        "batch_size = 600\n",
        "\n",
        "#data input\n",
        "n_input = 64\n",
        "\n",
        "#total classes\n",
        "n_classes = 3\n",
        "\n",
        "\n",
        "#both placeholders are of type float\n",
        "x = tf.placeholder(\"float\", [None, n_input, n_input,1])\n",
        "y = tf.placeholder(\"float\", [None, n_classes])\n",
        "\n",
        "\n",
        "def conv2d(x, W, b, strides=1):\n",
        "    # Conv2D wrapper, with bias and relu activation\n",
        "    x = tf.nn.conv2d(x, W, strides=[1, strides, strides, 1], padding='SAME')\n",
        "    x = tf.nn.bias_add(x, b)\n",
        "    return tf.nn.relu(x) \n",
        "\n",
        "  \n",
        "def maxpool2d(x, k=2):\n",
        "    return tf.nn.max_pool(x, ksize=[1, k, k, 1], strides=[1, k, k, 1],padding='SAME')\n",
        "  \n",
        "def dropout2d(x, prob_conv=0.8):\n",
        "  return tf.nn.dropout(x,prob_conv)\n",
        "  \n",
        "weights = {\n",
        "    'wc1': tf.get_variable('W0', shape=(3,3,1,32), initializer=tf.contrib.layers.xavier_initializer()), \n",
        "    'wc2': tf.get_variable('W1', shape=(3,3,32,64), initializer=tf.contrib.layers.xavier_initializer()), \n",
        "    'wc3': tf.get_variable('W2', shape=(3,3,64,128), initializer=tf.contrib.layers.xavier_initializer()), \n",
        "    'wd1': tf.get_variable('W3', shape=(8*8*128,128), initializer=tf.contrib.layers.xavier_initializer()), \n",
        "    'out': tf.get_variable('W6', shape=(128,n_classes), initializer=tf.contrib.layers.xavier_initializer()), \n",
        "}\n",
        "biases = {\n",
        "    'bc1': tf.get_variable('B0', shape=(32), initializer=tf.contrib.layers.xavier_initializer()),\n",
        "    'bc2': tf.get_variable('B1', shape=(64), initializer=tf.contrib.layers.xavier_initializer()),\n",
        "    'bc3': tf.get_variable('B2', shape=(128), initializer=tf.contrib.layers.xavier_initializer()),\n",
        "    'bd1': tf.get_variable('B3', shape=(128), initializer=tf.contrib.layers.xavier_initializer()),\n",
        "    'out': tf.get_variable('B4', shape=(n_classes), initializer=tf.contrib.layers.xavier_initializer()),\n",
        "}\n",
        "\n",
        "def conv_net(x, weights, biases, dropout=False):  \n",
        "\n",
        "    conv1 = conv2d(x, weights['wc1'], biases['bc1'])\n",
        "    conv1 = maxpool2d(conv1, k=2)\n",
        "    if dropout==True:\n",
        "      conv1 = dropout2d(conv1)\n",
        "\n",
        "    conv2 = conv2d(conv1, weights['wc2'], biases['bc2'])\n",
        "    conv2 = maxpool2d(conv2, k=2)\n",
        "    if dropout==True:\n",
        "      conv2 = dropout2d(conv2)\n",
        "\n",
        "    conv3 = conv2d(conv2, weights['wc3'], biases['bc3'])\n",
        "    conv3 = maxpool2d(conv3, k=2)\n",
        "    if dropout==True:\n",
        "      conv3 = dropout2d(conv3,prob_conv=0.5)\n",
        "\n",
        "    fc1 = tf.reshape(conv3, [-1, weights['wd1'].get_shape().as_list()[0]])\n",
        "    fc1 = tf.add(tf.matmul(fc1, weights['wd1']), biases['bd1'])\n",
        "    fc1 = tf.nn.relu(fc1)\n",
        "    # Output, class prediction\n",
        "    # finally we multiply the fully connected layer with the weights and add a bias term. \n",
        "    out = tf.add(tf.matmul(fc1, weights['out']), biases['out'])\n",
        "    return out\n",
        "  \n",
        "  \n",
        "  \n",
        "pred = conv_net(x, weights, biases)\n",
        "\n",
        "cost = tf.reduce_mean(tf.nn.softmax_cross_entropy_with_logits(logits=pred, labels=y))\n",
        "\n",
        "optimizer = tf.train.RMSPropOptimizer(learning_rate=learning_rate).minimize(cost)\n",
        "\n",
        "\n",
        "#Here you check whether the index of the maximum value of the predicted image is equal to the actual labelled image. and both will be a column vector.\n",
        "correct_prediction = tf.equal(tf.argmax(pred, 1), tf.argmax(y, 1))\n",
        "\n",
        "#calculate accuracy across all the given images and average them out. \n",
        "accuracy = tf.reduce_mean(tf.cast(correct_prediction, tf.float32))\n",
        "\n",
        "\n",
        "# Initializing the variables\n",
        "init = tf.global_variables_initializer()"
      ],
      "execution_count": 0,
      "outputs": []
    },
    {
      "metadata": {
        "id": "wnTlh_qGSMqi",
        "colab_type": "code",
        "outputId": "88e0af4b-10a2-4548-ba5b-911c84712515",
        "colab": {
          "base_uri": "https://localhost:8080/",
          "height": 1097
        }
      },
      "cell_type": "code",
      "source": [
        "with tf.Session() as sess:\n",
        "    sess.run(init) \n",
        "    train_loss = []\n",
        "    test_loss = []\n",
        "    train_accuracy = []\n",
        "    test_accuracy = []\n",
        "    summary_writer = tf.summary.FileWriter('./Output', sess.graph)\n",
        "    for i in range(1,training_iters+1):\n",
        "        for batch in range(len(train_X)//batch_size):\n",
        "            batch_x = train_X[batch*batch_size:min((batch+1)*batch_size,len(train_X))]\n",
        "            batch_y = train_y[batch*batch_size:min((batch+1)*batch_size,len(train_y))]    \n",
        "            # Run optimization op (backprop).\n",
        "                # Calculate batch loss and accuracy\n",
        "            opt = sess.run(optimizer, feed_dict={x: batch_x,\n",
        "                                                              y: batch_y})\n",
        "            loss, acc = sess.run([cost, accuracy], feed_dict={x: batch_x,\n",
        "                                                              y: batch_y})\n",
        "        if i%10==0 :\n",
        "          print(\"Iter \" + str(i) + \", Loss= \" + \\\n",
        "                        \"{:.6f}\".format(loss) + \", Training Accuracy= \" + \\\n",
        "                        \"{:.5f}\".format(acc))\n",
        "          print(\"Optimization Finished!\")\n",
        "\n",
        "          # Calculate accuracy for all test images\n",
        "          test_acc,valid_loss = sess.run([accuracy,cost], feed_dict={x: test_X, y: test_y})\n",
        "          train_loss.append(loss)\n",
        "          test_loss.append(valid_loss)\n",
        "          train_accuracy.append(acc)\n",
        "          test_accuracy.append(test_acc)\n",
        "          print(\"Testing Accuracy:\",\"{:.5f}\".format(test_acc))\n",
        "    results = sess.run(correct_prediction,feed_dict={ x: test_X, y: test_y})\n",
        "    summary_writer.close()"
      ],
      "execution_count": 0,
      "outputs": [
        {
          "output_type": "stream",
          "text": [
            "Iter 10, Loss= 0.176846, Training Accuracy= 0.98833\n",
            "Optimization Finished!\n",
            "Testing Accuracy: 0.16923\n",
            "Iter 20, Loss= 0.118404, Training Accuracy= 0.97833\n",
            "Optimization Finished!\n",
            "Testing Accuracy: 0.29769\n",
            "Iter 30, Loss= 0.046384, Training Accuracy= 0.98833\n",
            "Optimization Finished!\n",
            "Testing Accuracy: 0.40000\n",
            "Iter 40, Loss= 0.018959, Training Accuracy= 0.99500\n",
            "Optimization Finished!\n",
            "Testing Accuracy: 0.44538\n",
            "Iter 50, Loss= 0.002668, Training Accuracy= 0.99833\n",
            "Optimization Finished!\n",
            "Testing Accuracy: 0.55615\n",
            "Iter 60, Loss= 0.000237, Training Accuracy= 1.00000\n",
            "Optimization Finished!\n",
            "Testing Accuracy: 0.47692\n",
            "Iter 70, Loss= 0.000134, Training Accuracy= 1.00000\n",
            "Optimization Finished!\n",
            "Testing Accuracy: 0.69692\n",
            "Iter 80, Loss= 0.000178, Training Accuracy= 1.00000\n",
            "Optimization Finished!\n",
            "Testing Accuracy: 0.73923\n",
            "Iter 90, Loss= 0.000137, Training Accuracy= 1.00000\n",
            "Optimization Finished!\n",
            "Testing Accuracy: 0.77154\n",
            "Iter 100, Loss= 0.000000, Training Accuracy= 1.00000\n",
            "Optimization Finished!\n",
            "Testing Accuracy: 0.69231\n",
            "Iter 110, Loss= 0.000057, Training Accuracy= 1.00000\n",
            "Optimization Finished!\n",
            "Testing Accuracy: 0.78923\n",
            "Iter 120, Loss= 0.000000, Training Accuracy= 1.00000\n",
            "Optimization Finished!\n",
            "Testing Accuracy: 0.71231\n",
            "Iter 130, Loss= 0.000004, Training Accuracy= 1.00000\n",
            "Optimization Finished!\n",
            "Testing Accuracy: 0.81923\n",
            "Iter 140, Loss= 0.000012, Training Accuracy= 1.00000\n",
            "Optimization Finished!\n",
            "Testing Accuracy: 0.78462\n",
            "Iter 150, Loss= 0.000011, Training Accuracy= 1.00000\n",
            "Optimization Finished!\n",
            "Testing Accuracy: 0.72308\n",
            "Iter 160, Loss= 0.000001, Training Accuracy= 1.00000\n",
            "Optimization Finished!\n",
            "Testing Accuracy: 0.84077\n",
            "Iter 170, Loss= 0.000002, Training Accuracy= 1.00000\n",
            "Optimization Finished!\n",
            "Testing Accuracy: 0.82538\n",
            "Iter 180, Loss= 0.000000, Training Accuracy= 1.00000\n",
            "Optimization Finished!\n",
            "Testing Accuracy: 0.84462\n",
            "Iter 190, Loss= 0.000000, Training Accuracy= 1.00000\n",
            "Optimization Finished!\n",
            "Testing Accuracy: 0.85154\n",
            "Iter 200, Loss= 0.000000, Training Accuracy= 1.00000\n",
            "Optimization Finished!\n",
            "Testing Accuracy: 0.85462\n"
          ],
          "name": "stdout"
        }
      ]
    },
    {
      "metadata": {
        "id": "PB9Tff2_VnnQ",
        "colab_type": "code",
        "outputId": "e193b56a-db1a-4bff-dbd4-109d10a3c206",
        "colab": {
          "base_uri": "https://localhost:8080/",
          "height": 399
        }
      },
      "cell_type": "code",
      "source": [
        "plt.plot(range(len(train_loss)), train_loss, 'b', label='Training loss')\n",
        "plt.plot(range(len(train_loss)), test_loss, 'r', label='Test loss')\n",
        "plt.title('Training and Test loss')\n",
        "plt.xlabel('Epochs ',fontsize=16)\n",
        "plt.ylabel('Loss',fontsize=16)\n",
        "plt.legend()\n",
        "plt.figure()\n",
        "plt.show()"
      ],
      "execution_count": 0,
      "outputs": [
        {
          "output_type": "display_data",
          "data": {
            "image/png": "[encoded data removed]",
            "text/plain": [
              "<matplotlib.figure.Figure at 0x7fbdc6aa4080>"
            ]
          },
          "metadata": {
            "tags": []
          }
        },
        {
          "output_type": "display_data",
          "data": {
            "text/plain": [
              "<matplotlib.figure.Figure at 0x7fbdc6b74898>"
            ]
          },
          "metadata": {
            "tags": []
          }
        }
      ]
    },
    {
      "metadata": {
        "id": "bV0brJbQVqD9",
        "colab_type": "code",
        "outputId": "14052ecc-ab9a-4c61-a572-976c43a0d84b",
        "colab": {
          "base_uri": "https://localhost:8080/",
          "height": 417
        }
      },
      "cell_type": "code",
      "source": [
        "plt.plot(range(len(train_loss)), train_accuracy, 'b', label='Training Accuracy')\n",
        "plt.plot(range(len(train_loss)), test_accuracy, 'r', label='Test Accuracy')\n",
        "plt.title('Training and Test Accuracy')\n",
        "plt.xlabel('Epochs ',fontsize=16)\n",
        "plt.ylabel('Loss',fontsize=16)\n",
        "plt.legend()\n",
        "plt.figure()"
      ],
      "execution_count": 0,
      "outputs": [
        {
          "output_type": "execute_result",
          "data": {
            "text/plain": [
              "<matplotlib.figure.Figure at 0x7fbdc6b940f0>"
            ]
          },
          "metadata": {
            "tags": []
          },
          "execution_count": 76
        },
        {
          "output_type": "display_data",
          "data": {
            "image/png": "[encoded data removed]",
            "text/plain": [
              "<matplotlib.figure.Figure at 0x7fbdc6b7a048>"
            ]
          },
          "metadata": {
            "tags": []
          }
        },
        {
          "output_type": "display_data",
          "data": {
            "text/plain": [
              "<matplotlib.figure.Figure at 0x7fbdc6b940f0>"
            ]
          },
          "metadata": {
            "tags": []
          }
        }
      ]
    },
    {
      "metadata": {
        "id": "hIl4GfkyVeqf",
        "colab_type": "text"
      },
      "cell_type": "markdown",
      "source": [
        "## 4th try\n",
        "> 1.   training_iters = 300 ,\n",
        "learning_rate = 0.001 ,\n",
        "batch_size = 600\n",
        "\n",
        "> 2.   xavier_initializer\n",
        "\n",
        ">  3. dropout X\n",
        "\n",
        "> 4. ReLU 사용\n",
        "\n",
        "> **5. NaAdam optimizer**\n",
        "\n",
        "**result**\n",
        "> Iter 200, Loss= 0.018376, Training Accuracy= 0.99500  \n",
        "Testing Accuracy: 0.77538\n",
        "\n",
        "\n",
        "\n"
      ]
    },
    {
      "metadata": {
        "id": "6srlz_FEUwEj",
        "colab_type": "code",
        "colab": {}
      },
      "cell_type": "code",
      "source": [
        "tf.reset_default_graph()\n",
        "sess = tf.Session()\n",
        "sess.run(tf.global_variables_initializer())\n",
        "\n",
        "tf.reset_default_graph()\n",
        "a = tf.constant([1, 1, 1, 1, 1], dtype=tf.float32)\n",
        "graph_level_seed = 1\n",
        "operation_level_seed = 1\n",
        "tf.set_random_seed(graph_level_seed)\n",
        "b = tf.nn.dropout(a, 0.5, seed=operation_level_seed)\n",
        "\n",
        "\n",
        "training_iters = 300 \n",
        "learning_rate = 0.001 \n",
        "batch_size = 600\n",
        "\n",
        "#data input\n",
        "n_input = 64\n",
        "\n",
        "#total classes\n",
        "n_classes = 3\n",
        "\n",
        "\n",
        "#both placeholders are of type float\n",
        "x = tf.placeholder(\"float\", [None, n_input, n_input,1])\n",
        "y = tf.placeholder(\"float\", [None, n_classes])\n",
        "\n",
        "\n",
        "def conv2d(x, W, b, strides=1):\n",
        "    # Conv2D wrapper, with bias and relu activation\n",
        "    x = tf.nn.conv2d(x, W, strides=[1, strides, strides, 1], padding='SAME')\n",
        "    x = tf.nn.bias_add(x, b)\n",
        "    return tf.nn.relu(x) \n",
        "\n",
        "  \n",
        "def maxpool2d(x, k=2):\n",
        "    return tf.nn.max_pool(x, ksize=[1, k, k, 1], strides=[1, k, k, 1],padding='SAME')\n",
        "  \n",
        "def dropout2d(x, prob_conv=0.8):\n",
        "  return tf.nn.dropout(x,prob_conv)\n",
        "  \n",
        "weights = {\n",
        "    'wc1': tf.get_variable('W0', shape=(3,3,1,32), initializer=tf.contrib.layers.xavier_initializer()), \n",
        "    'wc2': tf.get_variable('W1', shape=(3,3,32,64), initializer=tf.contrib.layers.xavier_initializer()), \n",
        "    'wc3': tf.get_variable('W2', shape=(3,3,64,128), initializer=tf.contrib.layers.xavier_initializer()), \n",
        "    'wd1': tf.get_variable('W3', shape=(8*8*128,128), initializer=tf.contrib.layers.xavier_initializer()), \n",
        "    'out': tf.get_variable('W6', shape=(128,n_classes), initializer=tf.contrib.layers.xavier_initializer()), \n",
        "}\n",
        "biases = {\n",
        "    'bc1': tf.get_variable('B0', shape=(32), initializer=tf.contrib.layers.xavier_initializer()),\n",
        "    'bc2': tf.get_variable('B1', shape=(64), initializer=tf.contrib.layers.xavier_initializer()),\n",
        "    'bc3': tf.get_variable('B2', shape=(128), initializer=tf.contrib.layers.xavier_initializer()),\n",
        "    'bd1': tf.get_variable('B3', shape=(128), initializer=tf.contrib.layers.xavier_initializer()),\n",
        "    'out': tf.get_variable('B4', shape=(n_classes), initializer=tf.contrib.layers.xavier_initializer()),\n",
        "}\n",
        "\n",
        "def conv_net(x, weights, biases, dropout=False):  \n",
        "\n",
        "    conv1 = conv2d(x, weights['wc1'], biases['bc1'])\n",
        "    conv1 = maxpool2d(conv1, k=2)\n",
        "    if dropout==True:\n",
        "      conv1 = dropout2d(conv1)\n",
        "\n",
        "    conv2 = conv2d(conv1, weights['wc2'], biases['bc2'])\n",
        "    conv2 = maxpool2d(conv2, k=2)\n",
        "    if dropout==True:\n",
        "      conv2 = dropout2d(conv2)\n",
        "\n",
        "    conv3 = conv2d(conv2, weights['wc3'], biases['bc3'])\n",
        "    conv3 = maxpool2d(conv3, k=2)\n",
        "    if dropout==True:\n",
        "      conv3 = dropout2d(conv3,prob_conv=0.5)\n",
        "\n",
        "    fc1 = tf.reshape(conv3, [-1, weights['wd1'].get_shape().as_list()[0]])\n",
        "    fc1 = tf.add(tf.matmul(fc1, weights['wd1']), biases['bd1'])\n",
        "    fc1 = tf.nn.relu(fc1)\n",
        "    # Output, class prediction\n",
        "    # finally we multiply the fully connected layer with the weights and add a bias term. \n",
        "    out = tf.add(tf.matmul(fc1, weights['out']), biases['out'])\n",
        "    return out\n",
        "  \n",
        "  \n",
        "  \n",
        "pred = conv_net(x, weights, biases)\n",
        "\n",
        "cost = tf.reduce_mean(tf.nn.softmax_cross_entropy_with_logits(logits=pred, labels=y))\n",
        "\n",
        "optimizer = tf.contrib.opt.NadamOptimizer(learning_rate=learning_rate).minimize(cost)\n",
        "\n",
        "\n",
        "#Here you check whether the index of the maximum value of the predicted image is equal to the actual labelled image. and both will be a column vector.\n",
        "correct_prediction = tf.equal(tf.argmax(pred, 1), tf.argmax(y, 1))\n",
        "\n",
        "#calculate accuracy across all the given images and average them out. \n",
        "accuracy = tf.reduce_mean(tf.cast(correct_prediction, tf.float32))\n",
        "\n",
        "\n",
        "# Initializing the variables\n",
        "init = tf.global_variables_initializer()"
      ],
      "execution_count": 0,
      "outputs": []
    },
    {
      "metadata": {
        "id": "1rleyqo8VvI8",
        "colab_type": "code",
        "outputId": "e09f88e7-9314-4d62-fc71-a68a06bd6f10",
        "colab": {
          "base_uri": "https://localhost:8080/",
          "height": 1097
        }
      },
      "cell_type": "code",
      "source": [
        "with tf.Session() as sess:\n",
        "    sess.run(init) \n",
        "    train_loss = []\n",
        "    test_loss = []\n",
        "    train_accuracy = []\n",
        "    test_accuracy = []\n",
        "    summary_writer = tf.summary.FileWriter('./Output', sess.graph)\n",
        "    for i in range(1,training_iters+1):\n",
        "        for batch in range(len(train_X)//batch_size):\n",
        "            batch_x = train_X[batch*batch_size:min((batch+1)*batch_size,len(train_X))]\n",
        "            batch_y = train_y[batch*batch_size:min((batch+1)*batch_size,len(train_y))]    \n",
        "            # Run optimization op (backprop).\n",
        "                # Calculate batch loss and accuracy\n",
        "            opt = sess.run(optimizer, feed_dict={x: batch_x,\n",
        "                                                              y: batch_y})\n",
        "            loss, acc = sess.run([cost, accuracy], feed_dict={x: batch_x,\n",
        "                                                              y: batch_y})\n",
        "        if i%10==0 :\n",
        "          print(\"Iter \" + str(i) + \", Loss= \" + \\\n",
        "                        \"{:.6f}\".format(loss) + \", Training Accuracy= \" + \\\n",
        "                        \"{:.5f}\".format(acc))\n",
        "          print(\"Optimization Finished!\")\n",
        "\n",
        "          # Calculate accuracy for all test images\n",
        "          test_acc,valid_loss = sess.run([accuracy,cost], feed_dict={x: test_X, y: test_y})\n",
        "          train_loss.append(loss)\n",
        "          test_loss.append(valid_loss)\n",
        "          train_accuracy.append(acc)\n",
        "          test_accuracy.append(test_acc)\n",
        "          print(\"Testing Accuracy:\",\"{:.5f}\".format(test_acc))\n",
        "    results = sess.run(correct_prediction,feed_dict={ x: test_X, y: test_y})\n",
        "    summary_writer.close()"
      ],
      "execution_count": 0,
      "outputs": [
        {
          "output_type": "stream",
          "text": [
            "Iter 10, Loss= 0.607765, Training Accuracy= 0.70667\n",
            "Optimization Finished!\n",
            "Testing Accuracy: 0.63692\n",
            "Iter 20, Loss= 0.289775, Training Accuracy= 0.88000\n",
            "Optimization Finished!\n",
            "Testing Accuracy: 0.66538\n",
            "Iter 30, Loss= 0.361839, Training Accuracy= 0.86333\n",
            "Optimization Finished!\n",
            "Testing Accuracy: 0.61769\n",
            "Iter 40, Loss= 0.268079, Training Accuracy= 0.89500\n",
            "Optimization Finished!\n",
            "Testing Accuracy: 0.64538\n",
            "Iter 50, Loss= 0.197623, Training Accuracy= 0.91833\n",
            "Optimization Finished!\n",
            "Testing Accuracy: 0.67923\n",
            "Iter 60, Loss= 0.104173, Training Accuracy= 0.95333\n",
            "Optimization Finished!\n",
            "Testing Accuracy: 0.68154\n",
            "Iter 70, Loss= 0.066919, Training Accuracy= 0.97333\n",
            "Optimization Finished!\n",
            "Testing Accuracy: 0.73462\n",
            "Iter 80, Loss= 0.049875, Training Accuracy= 0.98000\n",
            "Optimization Finished!\n",
            "Testing Accuracy: 0.76538\n",
            "Iter 90, Loss= 0.025799, Training Accuracy= 0.98667\n",
            "Optimization Finished!\n",
            "Testing Accuracy: 0.76231\n",
            "Iter 100, Loss= 0.011031, Training Accuracy= 0.99500\n",
            "Optimization Finished!\n",
            "Testing Accuracy: 0.75923\n",
            "Iter 110, Loss= 0.011646, Training Accuracy= 1.00000\n",
            "Optimization Finished!\n",
            "Testing Accuracy: 0.18692\n",
            "Iter 120, Loss= 0.137949, Training Accuracy= 0.94333\n",
            "Optimization Finished!\n",
            "Testing Accuracy: 0.67615\n",
            "Iter 130, Loss= 0.056411, Training Accuracy= 0.97667\n",
            "Optimization Finished!\n",
            "Testing Accuracy: 0.72077\n",
            "Iter 140, Loss= 0.121468, Training Accuracy= 0.95833\n",
            "Optimization Finished!\n",
            "Testing Accuracy: 0.72077\n",
            "Iter 150, Loss= 0.074277, Training Accuracy= 0.96833\n",
            "Optimization Finished!\n",
            "Testing Accuracy: 0.71231\n",
            "Iter 160, Loss= 0.059635, Training Accuracy= 0.97667\n",
            "Optimization Finished!\n",
            "Testing Accuracy: 0.72077\n",
            "Iter 170, Loss= 0.046528, Training Accuracy= 0.97833\n",
            "Optimization Finished!\n",
            "Testing Accuracy: 0.73923\n",
            "Iter 180, Loss= 0.031363, Training Accuracy= 0.98833\n",
            "Optimization Finished!\n",
            "Testing Accuracy: 0.76231\n",
            "Iter 190, Loss= 0.026730, Training Accuracy= 0.99000\n",
            "Optimization Finished!\n",
            "Testing Accuracy: 0.77231\n",
            "Iter 200, Loss= 0.018376, Training Accuracy= 0.99500\n",
            "Optimization Finished!\n",
            "Testing Accuracy: 0.77538\n"
          ],
          "name": "stdout"
        }
      ]
    },
    {
      "metadata": {
        "id": "jWc_eaj5Vssm",
        "colab_type": "code",
        "outputId": "ab0be183-cebb-452c-ebab-12c7da7498f5",
        "colab": {
          "base_uri": "https://localhost:8080/",
          "height": 399
        }
      },
      "cell_type": "code",
      "source": [
        "plt.plot(range(len(train_loss)), train_loss, 'b', label='Training loss')\n",
        "plt.plot(range(len(train_loss)), test_loss, 'r', label='Test loss')\n",
        "plt.title('Training and Test loss')\n",
        "plt.xlabel('Epochs ',fontsize=16)\n",
        "plt.ylabel('Loss',fontsize=16)\n",
        "plt.legend()\n",
        "plt.figure()\n",
        "plt.show()"
      ],
      "execution_count": 0,
      "outputs": [
        {
          "output_type": "display_data",
          "data": {
            "image/png": "[encoded data removed]",
            "text/plain": [
              "<matplotlib.figure.Figure at 0x7fbdc6b9f1d0>"
            ]
          },
          "metadata": {
            "tags": []
          }
        },
        {
          "output_type": "display_data",
          "data": {
            "text/plain": [
              "<matplotlib.figure.Figure at 0x7fbdc6a67b70>"
            ]
          },
          "metadata": {
            "tags": []
          }
        }
      ]
    },
    {
      "metadata": {
        "id": "Jio3OqNQVuld",
        "colab_type": "code",
        "outputId": "4c2f2ee7-28e2-45f8-998d-313a808216b5",
        "colab": {
          "base_uri": "https://localhost:8080/",
          "height": 417
        }
      },
      "cell_type": "code",
      "source": [
        "plt.plot(range(len(train_loss)), train_accuracy, 'b', label='Training Accuracy')\n",
        "plt.plot(range(len(train_loss)), test_accuracy, 'r', label='Test Accuracy')\n",
        "plt.title('Training and Test Accuracy')\n",
        "plt.xlabel('Epochs ',fontsize=16)\n",
        "plt.ylabel('Loss',fontsize=16)\n",
        "plt.legend()\n",
        "plt.figure()"
      ],
      "execution_count": 0,
      "outputs": [
        {
          "output_type": "execute_result",
          "data": {
            "text/plain": [
              "<matplotlib.figure.Figure at 0x7fbdc6b9fd68>"
            ]
          },
          "metadata": {
            "tags": []
          },
          "execution_count": 80
        },
        {
          "output_type": "display_data",
          "data": {
            "image/png": "[encoded data removed]",
            "text/plain": [
              "<matplotlib.figure.Figure at 0x7fbdc83369b0>"
            ]
          },
          "metadata": {
            "tags": []
          }
        },
        {
          "output_type": "display_data",
          "data": {
            "text/plain": [
              "<matplotlib.figure.Figure at 0x7fbdc6b9fd68>"
            ]
          },
          "metadata": {
            "tags": []
          }
        }
      ]
    },
    {
      "metadata": {
        "id": "3WcMP0vRZlae",
        "colab_type": "text"
      },
      "cell_type": "markdown",
      "source": [
        "## 5th try\n",
        "> 1.   training_iters = 300 ,\n",
        "learning_rate = 0.001 ,\n",
        "batch_size = 600\n",
        "\n",
        "> **2.   he_normal_initializer**\n",
        "\n",
        ">  3. dropout X\n",
        "\n",
        "> 4. ReLU 사용\n",
        "\n",
        "> 5. RMSProp optimizer\n",
        "\n",
        "**result**\n",
        "> Iter 300, Loss= 0.000068, Training Accuracy= 1.00000  \n",
        "Testing Accuracy: 0.77462\n",
        "\n",
        "> ::iters 증가해서 더 돌려볼 것\n",
        "\n",
        "\n"
      ]
    },
    {
      "metadata": {
        "id": "9LrD8GzFWpf7",
        "colab_type": "code",
        "outputId": "d1d21629-8e1b-4987-b854-7c772c398af4",
        "colab": {
          "base_uri": "https://localhost:8080/",
          "height": 2019
        }
      },
      "cell_type": "code",
      "source": [
        "tf.reset_default_graph()\n",
        "sess = tf.Session()\n",
        "sess.run(tf.global_variables_initializer())\n",
        "\n",
        "tf.reset_default_graph()\n",
        "a = tf.constant([1, 1, 1, 1, 1], dtype=tf.float32)\n",
        "graph_level_seed = 1\n",
        "operation_level_seed = 1\n",
        "tf.set_random_seed(graph_level_seed)\n",
        "b = tf.nn.dropout(a, 0.5, seed=operation_level_seed)\n",
        "\n",
        "\n",
        "training_iters = 300 \n",
        "learning_rate = 0.001 \n",
        "batch_size = 600\n",
        "\n",
        "#data input\n",
        "n_input = 64\n",
        "\n",
        "#total classes\n",
        "n_classes = 3\n",
        "\n",
        "\n",
        "#both placeholders are of type float\n",
        "x = tf.placeholder(\"float\", [None, n_input, n_input,1])\n",
        "y = tf.placeholder(\"float\", [None, n_classes])\n",
        "\n",
        "\n",
        "def conv2d(x, W, b, strides=1):\n",
        "    # Conv2D wrapper, with bias and relu activation\n",
        "    x = tf.nn.conv2d(x, W, strides=[1, strides, strides, 1], padding='SAME')\n",
        "    x = tf.nn.bias_add(x, b)\n",
        "    return tf.nn.relu(x) \n",
        "\n",
        "  \n",
        "def maxpool2d(x, k=2):\n",
        "    return tf.nn.max_pool(x, ksize=[1, k, k, 1], strides=[1, k, k, 1],padding='SAME')\n",
        "  \n",
        "def dropout2d(x, prob_conv=0.8):\n",
        "  return tf.nn.dropout(x,prob_conv)\n",
        "\n",
        "weights = {\n",
        "    'wc1': tf.get_variable('W0', shape=(3,3,1,32), initializer=tf.keras.initializers.he_normal()), \n",
        "    'wc2': tf.get_variable('W1', shape=(3,3,32,64), initializer=tf.keras.initializers.he_normal()), \n",
        "    'wc3': tf.get_variable('W2', shape=(3,3,64,128), initializer=tf.keras.initializers.he_normal()), \n",
        "    'wd1': tf.get_variable('W3', shape=(8*8*128,128), initializer=tf.keras.initializers.he_normal()), \n",
        "    'out': tf.get_variable('W6', shape=(128,n_classes), initializer=tf.keras.initializers.he_normal()), \n",
        "}\n",
        "biases = {\n",
        "    'bc1': tf.get_variable('B0', shape=(32), initializer=tf.keras.initializers.he_normal()),\n",
        "    'bc2': tf.get_variable('B1', shape=(64), initializer=tf.keras.initializers.he_normal()),\n",
        "    'bc3': tf.get_variable('B2', shape=(128), initializer=tf.keras.initializers.he_normal()),\n",
        "    'bd1': tf.get_variable('B3', shape=(128), initializer=tf.keras.initializers.he_normal()),\n",
        "    'out': tf.get_variable('B4', shape=(n_classes), initializer=tf.keras.initializers.he_normal()),\n",
        "}\n",
        "\n",
        "def conv_net(x, weights, biases, dropout=False):  \n",
        "\n",
        "    conv1 = conv2d(x, weights['wc1'], biases['bc1'])\n",
        "    conv1 = maxpool2d(conv1, k=2)\n",
        "    if dropout==True:\n",
        "      conv1 = dropout2d(conv1)\n",
        "\n",
        "    conv2 = conv2d(conv1, weights['wc2'], biases['bc2'])\n",
        "    conv2 = maxpool2d(conv2, k=2)\n",
        "    if dropout==True:\n",
        "      conv2 = dropout2d(conv2)\n",
        "\n",
        "    conv3 = conv2d(conv2, weights['wc3'], biases['bc3'])\n",
        "    conv3 = maxpool2d(conv3, k=2)\n",
        "    if dropout==True:\n",
        "      conv3 = dropout2d(conv3,prob_conv=0.5)\n",
        "\n",
        "    fc1 = tf.reshape(conv3, [-1, weights['wd1'].get_shape().as_list()[0]])\n",
        "    fc1 = tf.add(tf.matmul(fc1, weights['wd1']), biases['bd1'])\n",
        "    fc1 = tf.nn.relu(fc1)\n",
        "    # Output, class prediction\n",
        "    # finally we multiply the fully connected layer with the weights and add a bias term. \n",
        "    out = tf.add(tf.matmul(fc1, weights['out']), biases['out'])\n",
        "    return out\n",
        "  \n",
        "  \n",
        "  \n",
        "pred = conv_net(x, weights, biases)\n",
        "\n",
        "cost = tf.reduce_mean(tf.nn.softmax_cross_entropy_with_logits(logits=pred, labels=y))\n",
        "\n",
        "optimizer = tf.train.RMSPropOptimizer(learning_rate=learning_rate).minimize(cost)\n",
        "\n",
        "\n",
        "#Here you check whether the index of the maximum value of the predicted image is equal to the actual labelled image. and both will be a column vector.\n",
        "correct_prediction = tf.equal(tf.argmax(pred, 1), tf.argmax(y, 1))\n",
        "\n",
        "#calculate accuracy across all the given images and average them out. \n",
        "accuracy = tf.reduce_mean(tf.cast(correct_prediction, tf.float32))\n",
        "\n",
        "\n",
        "# Initializing the variables\n",
        "init = tf.global_variables_initializer()\n",
        "\n",
        "\n",
        "\n",
        "\n",
        "#######################################################################\n",
        "\n",
        "with tf.Session() as sess:\n",
        "    sess.run(init) \n",
        "    train_loss = []\n",
        "    test_loss = []\n",
        "    train_accuracy = []\n",
        "    test_accuracy = []\n",
        "    summary_writer = tf.summary.FileWriter('./Output', sess.graph)\n",
        "    for i in range(1,training_iters+1):\n",
        "        for batch in range(len(train_X)//batch_size):\n",
        "            batch_x = train_X[batch*batch_size:min((batch+1)*batch_size,len(train_X))]\n",
        "            batch_y = train_y[batch*batch_size:min((batch+1)*batch_size,len(train_y))]    \n",
        "            # Run optimization op (backprop).\n",
        "                # Calculate batch loss and accuracy\n",
        "            opt = sess.run(optimizer, feed_dict={x: batch_x,\n",
        "                                                              y: batch_y})\n",
        "            loss, acc = sess.run([cost, accuracy], feed_dict={x: batch_x,\n",
        "                                                              y: batch_y})\n",
        "        if i%10==0 :\n",
        "          print(\"Iter \" + str(i) + \", Loss= \" + \\\n",
        "                        \"{:.6f}\".format(loss) + \", Training Accuracy= \" + \\\n",
        "                        \"{:.5f}\".format(acc))\n",
        "          print(\"Optimization Finished!\")\n",
        "\n",
        "          # Calculate accuracy for all test images\n",
        "          test_acc,valid_loss = sess.run([accuracy,cost], feed_dict={x: test_X, y: test_y})\n",
        "          train_loss.append(loss)\n",
        "          test_loss.append(valid_loss)\n",
        "          train_accuracy.append(acc)\n",
        "          test_accuracy.append(test_acc)\n",
        "          print(\"Testing Accuracy:\",\"{:.5f}\".format(test_acc))\n",
        "    results = sess.run(correct_prediction,feed_dict={ x: test_X, y: test_y})\n",
        "    summary_writer.close()\n",
        "    \n",
        "    ##########################################################\n",
        "    \n",
        "plt.plot(range(len(train_loss)), train_loss, 'b', label='Training loss')\n",
        "plt.plot(range(len(train_loss)), test_loss, 'r', label='Test loss')\n",
        "plt.title('Training and Test loss')\n",
        "plt.xlabel('Epochs ',fontsize=16)\n",
        "plt.ylabel('Loss',fontsize=16)\n",
        "plt.legend()\n",
        "plt.figure()\n",
        "plt.show()"
      ],
      "execution_count": 0,
      "outputs": [
        {
          "output_type": "stream",
          "text": [
            "Iter 10, Loss= 0.000000, Training Accuracy= 1.00000\n",
            "Optimization Finished!\n",
            "Testing Accuracy: 0.07692\n",
            "Iter 20, Loss= 0.029032, Training Accuracy= 0.99500\n",
            "Optimization Finished!\n",
            "Testing Accuracy: 0.31615\n",
            "Iter 30, Loss= 0.094591, Training Accuracy= 0.99833\n",
            "Optimization Finished!\n",
            "Testing Accuracy: 0.32769\n",
            "Iter 40, Loss= 0.010707, Training Accuracy= 0.99500\n",
            "Optimization Finished!\n",
            "Testing Accuracy: 0.34308\n",
            "Iter 50, Loss= 0.000005, Training Accuracy= 1.00000\n",
            "Optimization Finished!\n",
            "Testing Accuracy: 0.17077\n",
            "Iter 60, Loss= 0.000002, Training Accuracy= 1.00000\n",
            "Optimization Finished!\n",
            "Testing Accuracy: 0.17538\n",
            "Iter 70, Loss= 0.011043, Training Accuracy= 0.99833\n",
            "Optimization Finished!\n",
            "Testing Accuracy: 0.32077\n",
            "Iter 80, Loss= 0.000006, Training Accuracy= 1.00000\n",
            "Optimization Finished!\n",
            "Testing Accuracy: 0.24615\n",
            "Iter 90, Loss= 0.068684, Training Accuracy= 0.97333\n",
            "Optimization Finished!\n",
            "Testing Accuracy: 0.40692\n",
            "Iter 100, Loss= 0.004840, Training Accuracy= 0.99667\n",
            "Optimization Finished!\n",
            "Testing Accuracy: 0.33000\n",
            "Iter 110, Loss= 0.028807, Training Accuracy= 0.98833\n",
            "Optimization Finished!\n",
            "Testing Accuracy: 0.45077\n",
            "Iter 120, Loss= 0.002096, Training Accuracy= 1.00000\n",
            "Optimization Finished!\n",
            "Testing Accuracy: 0.43308\n",
            "Iter 130, Loss= 0.015312, Training Accuracy= 0.99500\n",
            "Optimization Finished!\n",
            "Testing Accuracy: 0.52462\n",
            "Iter 140, Loss= 0.000062, Training Accuracy= 1.00000\n",
            "Optimization Finished!\n",
            "Testing Accuracy: 0.50462\n",
            "Iter 150, Loss= 0.001589, Training Accuracy= 1.00000\n",
            "Optimization Finished!\n",
            "Testing Accuracy: 0.57308\n",
            "Iter 160, Loss= 0.010515, Training Accuracy= 0.99500\n",
            "Optimization Finished!\n",
            "Testing Accuracy: 0.62000\n",
            "Iter 170, Loss= 0.022133, Training Accuracy= 0.99000\n",
            "Optimization Finished!\n",
            "Testing Accuracy: 0.65846\n",
            "Iter 180, Loss= 0.000000, Training Accuracy= 1.00000\n",
            "Optimization Finished!\n",
            "Testing Accuracy: 0.37000\n",
            "Iter 190, Loss= 0.021245, Training Accuracy= 0.99333\n",
            "Optimization Finished!\n",
            "Testing Accuracy: 0.67615\n",
            "Iter 200, Loss= 0.000000, Training Accuracy= 1.00000\n",
            "Optimization Finished!\n",
            "Testing Accuracy: 0.62692\n",
            "Iter 210, Loss= 0.000148, Training Accuracy= 1.00000\n",
            "Optimization Finished!\n",
            "Testing Accuracy: 0.69538\n",
            "Iter 220, Loss= 0.000000, Training Accuracy= 1.00000\n",
            "Optimization Finished!\n",
            "Testing Accuracy: 0.50846\n",
            "Iter 230, Loss= 0.000004, Training Accuracy= 1.00000\n",
            "Optimization Finished!\n",
            "Testing Accuracy: 0.67231\n",
            "Iter 240, Loss= 0.000029, Training Accuracy= 1.00000\n",
            "Optimization Finished!\n",
            "Testing Accuracy: 0.66615\n",
            "Iter 250, Loss= 0.000000, Training Accuracy= 1.00000\n",
            "Optimization Finished!\n",
            "Testing Accuracy: 0.66538\n",
            "Iter 260, Loss= 0.000097, Training Accuracy= 1.00000\n",
            "Optimization Finished!\n",
            "Testing Accuracy: 0.73692\n",
            "Iter 270, Loss= 0.000020, Training Accuracy= 1.00000\n",
            "Optimization Finished!\n",
            "Testing Accuracy: 0.76231\n",
            "Iter 280, Loss= 0.000000, Training Accuracy= 1.00000\n",
            "Optimization Finished!\n",
            "Testing Accuracy: 0.74231\n",
            "Iter 290, Loss= 0.000000, Training Accuracy= 1.00000\n",
            "Optimization Finished!\n",
            "Testing Accuracy: 0.73538\n",
            "Iter 300, Loss= 0.000068, Training Accuracy= 1.00000\n",
            "Optimization Finished!\n",
            "Testing Accuracy: 0.77462\n"
          ],
          "name": "stdout"
        },
        {
          "output_type": "display_data",
          "data": {
            "image/png": "[encoded data removed]",
            "text/plain": [
              "<matplotlib.figure.Figure at 0x7fbdc69a4940>"
            ]
          },
          "metadata": {
            "tags": []
          }
        },
        {
          "output_type": "display_data",
          "data": {
            "text/plain": [
              "<matplotlib.figure.Figure at 0x7fbdc762fb00>"
            ]
          },
          "metadata": {
            "tags": []
          }
        }
      ]
    },
    {
      "metadata": {
        "id": "RJTQ75x5W09I",
        "colab_type": "code",
        "outputId": "c4ce650b-e8b8-4b4d-fe29-1b0f07bb9833",
        "colab": {
          "base_uri": "https://localhost:8080/",
          "height": 417
        }
      },
      "cell_type": "code",
      "source": [
        "plt.plot(range(len(train_loss)), train_accuracy, 'b', label='Training Accuracy')\n",
        "plt.plot(range(len(train_loss)), test_accuracy, 'r', label='Test Accuracy')\n",
        "plt.title('Training and Test Accuracy')\n",
        "plt.xlabel('Epochs ',fontsize=16)\n",
        "plt.ylabel('Loss',fontsize=16)\n",
        "plt.legend()\n",
        "plt.figure()"
      ],
      "execution_count": 0,
      "outputs": [
        {
          "output_type": "execute_result",
          "data": {
            "text/plain": [
              "<matplotlib.figure.Figure at 0x7fbdc47d5160>"
            ]
          },
          "metadata": {
            "tags": []
          },
          "execution_count": 84
        },
        {
          "output_type": "display_data",
          "data": {
            "image/png": "[encoded data removed]",
            "text/plain": [
              "<matplotlib.figure.Figure at 0x7fbdc6c16710>"
            ]
          },
          "metadata": {
            "tags": []
          }
        },
        {
          "output_type": "display_data",
          "data": {
            "text/plain": [
              "<matplotlib.figure.Figure at 0x7fbdc47d5160>"
            ]
          },
          "metadata": {
            "tags": []
          }
        }
      ]
    },
    {
      "metadata": {
        "id": "u5PeK409dUcy",
        "colab_type": "text"
      },
      "cell_type": "markdown",
      "source": [
        "## 6th try\n",
        "> 1.   training_iters = 300 ,\n",
        "learning_rate = 0.001 ,\n",
        "batch_size = 600\n",
        "\n",
        "> **2.   he_uniform_initializer**\n",
        "\n",
        ">  3. dropout X\n",
        "\n",
        "> 4. ReLU 사용\n",
        "\n",
        "> 5. RMSProp optimizer\n",
        "\n",
        "**result**\n",
        "> Iter 300, Loss= 0.000000, Training Accuracy= 1.00000  \n",
        "Testing Accuracy: 0.76923\n"
      ]
    },
    {
      "metadata": {
        "id": "xgnWydIAagy5",
        "colab_type": "code",
        "outputId": "25280d14-34d1-4025-9341-023e73c7f7c2",
        "colab": {
          "base_uri": "https://localhost:8080/",
          "height": 2019
        }
      },
      "cell_type": "code",
      "source": [
        "tf.reset_default_graph()\n",
        "sess = tf.Session()\n",
        "sess.run(tf.global_variables_initializer())\n",
        "\n",
        "tf.reset_default_graph()\n",
        "a = tf.constant([1, 1, 1, 1, 1], dtype=tf.float32)\n",
        "graph_level_seed = 1\n",
        "operation_level_seed = 1\n",
        "tf.set_random_seed(graph_level_seed)\n",
        "b = tf.nn.dropout(a, 0.5, seed=operation_level_seed)\n",
        "\n",
        "\n",
        "training_iters = 300 \n",
        "learning_rate = 0.001 \n",
        "batch_size = 600\n",
        "\n",
        "#data input\n",
        "n_input = 64\n",
        "\n",
        "#total classes\n",
        "n_classes = 3\n",
        "\n",
        "\n",
        "#both placeholders are of type float\n",
        "x = tf.placeholder(\"float\", [None, n_input, n_input,1])\n",
        "y = tf.placeholder(\"float\", [None, n_classes])\n",
        "\n",
        "\n",
        "def conv2d(x, W, b, strides=1):\n",
        "    # Conv2D wrapper, with bias and relu activation\n",
        "    x = tf.nn.conv2d(x, W, strides=[1, strides, strides, 1], padding='SAME')\n",
        "    x = tf.nn.bias_add(x, b)\n",
        "    return tf.nn.relu(x) \n",
        "\n",
        "  \n",
        "def maxpool2d(x, k=2):\n",
        "    return tf.nn.max_pool(x, ksize=[1, k, k, 1], strides=[1, k, k, 1],padding='SAME')\n",
        "  \n",
        "def dropout2d(x, prob_conv=0.8):\n",
        "  return tf.nn.dropout(x,prob_conv)\n",
        "\n",
        "weights = {\n",
        "    'wc1': tf.get_variable('W0', shape=(3,3,1,32), initializer=tf.initializers.he_uniform()), \n",
        "    'wc2': tf.get_variable('W1', shape=(3,3,32,64), initializer=tf.initializers.he_uniform()), \n",
        "    'wc3': tf.get_variable('W2', shape=(3,3,64,128), initializer=tf.initializers.he_uniform()), \n",
        "    'wd1': tf.get_variable('W3', shape=(8*8*128,128), initializer=tf.initializers.he_uniform()), \n",
        "    'out': tf.get_variable('W6', shape=(128,n_classes), initializer=tf.initializers.he_uniform()), \n",
        "}\n",
        "biases = {\n",
        "    'bc1': tf.get_variable('B0', shape=(32), initializer=tf.initializers.he_uniform()),\n",
        "    'bc2': tf.get_variable('B1', shape=(64), initializer=tf.initializers.he_uniform()),\n",
        "    'bc3': tf.get_variable('B2', shape=(128), initializer=tf.initializers.he_uniform()),\n",
        "    'bd1': tf.get_variable('B3', shape=(128), initializer=tf.initializers.he_uniform()),\n",
        "    'out': tf.get_variable('B4', shape=(n_classes), initializer=tf.initializers.he_uniform()),\n",
        "}\n",
        "\n",
        "def conv_net(x, weights, biases, dropout=False):  \n",
        "\n",
        "    conv1 = conv2d(x, weights['wc1'], biases['bc1'])\n",
        "    conv1 = maxpool2d(conv1, k=2)\n",
        "    if dropout==True:\n",
        "      conv1 = dropout2d(conv1)\n",
        "\n",
        "    conv2 = conv2d(conv1, weights['wc2'], biases['bc2'])\n",
        "    conv2 = maxpool2d(conv2, k=2)\n",
        "    if dropout==True:\n",
        "      conv2 = dropout2d(conv2)\n",
        "\n",
        "    conv3 = conv2d(conv2, weights['wc3'], biases['bc3'])\n",
        "    conv3 = maxpool2d(conv3, k=2)\n",
        "    if dropout==True:\n",
        "      conv3 = dropout2d(conv3,prob_conv=0.5)\n",
        "\n",
        "    fc1 = tf.reshape(conv3, [-1, weights['wd1'].get_shape().as_list()[0]])\n",
        "    fc1 = tf.add(tf.matmul(fc1, weights['wd1']), biases['bd1'])\n",
        "    fc1 = tf.nn.relu(fc1)\n",
        "    # Output, class prediction\n",
        "    # finally we multiply the fully connected layer with the weights and add a bias term. \n",
        "    out = tf.add(tf.matmul(fc1, weights['out']), biases['out'])\n",
        "    return out\n",
        "  \n",
        "  \n",
        "  \n",
        "pred = conv_net(x, weights, biases)\n",
        "\n",
        "cost = tf.reduce_mean(tf.nn.softmax_cross_entropy_with_logits(logits=pred, labels=y))\n",
        "\n",
        "optimizer = tf.train.RMSPropOptimizer(learning_rate=learning_rate).minimize(cost)\n",
        "\n",
        "\n",
        "#Here you check whether the index of the maximum value of the predicted image is equal to the actual labelled image. and both will be a column vector.\n",
        "correct_prediction = tf.equal(tf.argmax(pred, 1), tf.argmax(y, 1))\n",
        "\n",
        "#calculate accuracy across all the given images and average them out. \n",
        "accuracy = tf.reduce_mean(tf.cast(correct_prediction, tf.float32))\n",
        "\n",
        "\n",
        "# Initializing the variables\n",
        "init = tf.global_variables_initializer()\n",
        "\n",
        "\n",
        "\n",
        "\n",
        "#######################################################################\n",
        "\n",
        "with tf.Session() as sess:\n",
        "    sess.run(init) \n",
        "    train_loss = []\n",
        "    test_loss = []\n",
        "    train_accuracy = []\n",
        "    test_accuracy = []\n",
        "    summary_writer = tf.summary.FileWriter('./Output', sess.graph)\n",
        "    for i in range(1,training_iters+1):\n",
        "        for batch in range(len(train_X)//batch_size):\n",
        "            batch_x = train_X[batch*batch_size:min((batch+1)*batch_size,len(train_X))]\n",
        "            batch_y = train_y[batch*batch_size:min((batch+1)*batch_size,len(train_y))]    \n",
        "            # Run optimization op (backprop).\n",
        "                # Calculate batch loss and accuracy\n",
        "            opt = sess.run(optimizer, feed_dict={x: batch_x,\n",
        "                                                              y: batch_y})\n",
        "            loss, acc = sess.run([cost, accuracy], feed_dict={x: batch_x,\n",
        "                                                              y: batch_y})\n",
        "        if i%10==0 :\n",
        "          print(\"Iter \" + str(i) + \", Loss= \" + \\\n",
        "                        \"{:.6f}\".format(loss) + \", Training Accuracy= \" + \\\n",
        "                        \"{:.5f}\".format(acc))\n",
        "          print(\"Optimization Finished!\")\n",
        "\n",
        "          # Calculate accuracy for all test images\n",
        "          test_acc,valid_loss = sess.run([accuracy,cost], feed_dict={x: test_X, y: test_y})\n",
        "          train_loss.append(loss)\n",
        "          test_loss.append(valid_loss)\n",
        "          train_accuracy.append(acc)\n",
        "          test_accuracy.append(test_acc)\n",
        "          print(\"Testing Accuracy:\",\"{:.5f}\".format(test_acc))\n",
        "    results = sess.run(correct_prediction,feed_dict={ x: test_X, y: test_y})\n",
        "    summary_writer.close()\n",
        "    \n",
        "    ##########################################################\n",
        "    \n",
        "plt.plot(range(len(train_loss)), train_loss, 'b', label='Training loss')\n",
        "plt.plot(range(len(train_loss)), test_loss, 'r', label='Test loss')\n",
        "plt.title('Training and Test loss')\n",
        "plt.xlabel('Epochs ',fontsize=16)\n",
        "plt.ylabel('Loss',fontsize=16)\n",
        "plt.legend()\n",
        "plt.figure()\n",
        "plt.show()\n",
        "\n",
        "\n"
      ],
      "execution_count": 0,
      "outputs": [
        {
          "output_type": "stream",
          "text": [
            "Iter 10, Loss= 0.000000, Training Accuracy= 1.00000\n",
            "Optimization Finished!\n",
            "Testing Accuracy: 0.23615\n",
            "Iter 20, Loss= 0.148655, Training Accuracy= 0.98167\n",
            "Optimization Finished!\n",
            "Testing Accuracy: 0.27538\n",
            "Iter 30, Loss= 0.017622, Training Accuracy= 0.99667\n",
            "Optimization Finished!\n",
            "Testing Accuracy: 0.30538\n",
            "Iter 40, Loss= 0.000000, Training Accuracy= 1.00000\n",
            "Optimization Finished!\n",
            "Testing Accuracy: 0.21846\n",
            "Iter 50, Loss= 0.011088, Training Accuracy= 0.99500\n",
            "Optimization Finished!\n",
            "Testing Accuracy: 0.37000\n",
            "Iter 60, Loss= 0.042894, Training Accuracy= 0.99500\n",
            "Optimization Finished!\n",
            "Testing Accuracy: 0.47846\n",
            "Iter 70, Loss= 0.000059, Training Accuracy= 1.00000\n",
            "Optimization Finished!\n",
            "Testing Accuracy: 0.43231\n",
            "Iter 80, Loss= 0.008925, Training Accuracy= 0.99833\n",
            "Optimization Finished!\n",
            "Testing Accuracy: 0.48538\n",
            "Iter 90, Loss= 0.000054, Training Accuracy= 1.00000\n",
            "Optimization Finished!\n",
            "Testing Accuracy: 0.47462\n",
            "Iter 100, Loss= 0.000000, Training Accuracy= 1.00000\n",
            "Optimization Finished!\n",
            "Testing Accuracy: 0.47000\n",
            "Iter 110, Loss= 0.001085, Training Accuracy= 1.00000\n",
            "Optimization Finished!\n",
            "Testing Accuracy: 0.58231\n",
            "Iter 120, Loss= 0.000074, Training Accuracy= 1.00000\n",
            "Optimization Finished!\n",
            "Testing Accuracy: 0.61846\n",
            "Iter 130, Loss= 0.000000, Training Accuracy= 1.00000\n",
            "Optimization Finished!\n",
            "Testing Accuracy: 0.43077\n",
            "Iter 140, Loss= 0.009999, Training Accuracy= 0.99500\n",
            "Optimization Finished!\n",
            "Testing Accuracy: 0.64769\n",
            "Iter 150, Loss= 0.002764, Training Accuracy= 0.99833\n",
            "Optimization Finished!\n",
            "Testing Accuracy: 0.67231\n",
            "Iter 160, Loss= 0.011327, Training Accuracy= 0.99667\n",
            "Optimization Finished!\n",
            "Testing Accuracy: 0.67692\n",
            "Iter 170, Loss= 0.000000, Training Accuracy= 1.00000\n",
            "Optimization Finished!\n",
            "Testing Accuracy: 0.51538\n",
            "Iter 180, Loss= 0.000000, Training Accuracy= 1.00000\n",
            "Optimization Finished!\n",
            "Testing Accuracy: 0.60538\n",
            "Iter 190, Loss= 0.002247, Training Accuracy= 0.99833\n",
            "Optimization Finished!\n",
            "Testing Accuracy: 0.59692\n",
            "Iter 200, Loss= 0.000000, Training Accuracy= 1.00000\n",
            "Optimization Finished!\n",
            "Testing Accuracy: 0.39154\n",
            "Iter 210, Loss= 0.000160, Training Accuracy= 1.00000\n",
            "Optimization Finished!\n",
            "Testing Accuracy: 0.69308\n",
            "Iter 220, Loss= 0.000000, Training Accuracy= 1.00000\n",
            "Optimization Finished!\n",
            "Testing Accuracy: 0.65231\n",
            "Iter 230, Loss= 0.002921, Training Accuracy= 0.99833\n",
            "Optimization Finished!\n",
            "Testing Accuracy: 0.74462\n",
            "Iter 240, Loss= 0.000104, Training Accuracy= 1.00000\n",
            "Optimization Finished!\n",
            "Testing Accuracy: 0.72385\n",
            "Iter 250, Loss= 0.000000, Training Accuracy= 1.00000\n",
            "Optimization Finished!\n",
            "Testing Accuracy: 0.74231\n",
            "Iter 260, Loss= 0.003333, Training Accuracy= 0.99833\n",
            "Optimization Finished!\n",
            "Testing Accuracy: 0.76077\n",
            "Iter 270, Loss= 0.000041, Training Accuracy= 1.00000\n",
            "Optimization Finished!\n",
            "Testing Accuracy: 0.75692\n",
            "Iter 280, Loss= 0.000000, Training Accuracy= 1.00000\n",
            "Optimization Finished!\n",
            "Testing Accuracy: 0.73231\n",
            "Iter 290, Loss= 0.000093, Training Accuracy= 1.00000\n",
            "Optimization Finished!\n",
            "Testing Accuracy: 0.78077\n",
            "Iter 300, Loss= 0.000000, Training Accuracy= 1.00000\n",
            "Optimization Finished!\n",
            "Testing Accuracy: 0.76923\n"
          ],
          "name": "stdout"
        },
        {
          "output_type": "display_data",
          "data": {
            "image/png": "[encoded data removed]",
            "text/plain": [
              "<matplotlib.figure.Figure at 0x7fbdc6a4ab70>"
            ]
          },
          "metadata": {
            "tags": []
          }
        },
        {
          "output_type": "display_data",
          "data": {
            "text/plain": [
              "<matplotlib.figure.Figure at 0x7fbdc3eff1d0>"
            ]
          },
          "metadata": {
            "tags": []
          }
        }
      ]
    },
    {
      "metadata": {
        "id": "346JcYOLdskE",
        "colab_type": "code",
        "outputId": "082aafbd-71a2-4904-f931-02b6071dc585",
        "colab": {
          "base_uri": "https://localhost:8080/",
          "height": 417
        }
      },
      "cell_type": "code",
      "source": [
        "plt.plot(range(len(train_loss)), train_accuracy, 'b', label='Training Accuracy')\n",
        "plt.plot(range(len(train_loss)), test_accuracy, 'r', label='Test Accuracy')\n",
        "plt.title('Training and Test Accuracy')\n",
        "plt.xlabel('Epochs ',fontsize=16)\n",
        "plt.ylabel('Loss',fontsize=16)\n",
        "plt.legend()\n",
        "plt.figure()"
      ],
      "execution_count": 0,
      "outputs": [
        {
          "output_type": "execute_result",
          "data": {
            "text/plain": [
              "<matplotlib.figure.Figure at 0x7fbdc699e860>"
            ]
          },
          "metadata": {
            "tags": []
          },
          "execution_count": 86
        },
        {
          "output_type": "display_data",
          "data": {
            "image/png": "[encoded data removed]",
            "text/plain": [
              "<matplotlib.figure.Figure at 0x7fbdcef3fbe0>"
            ]
          },
          "metadata": {
            "tags": []
          }
        },
        {
          "output_type": "display_data",
          "data": {
            "text/plain": [
              "<matplotlib.figure.Figure at 0x7fbdc699e860>"
            ]
          },
          "metadata": {
            "tags": []
          }
        }
      ]
    },
    {
      "metadata": {
        "id": "rF4AKpUud6CV",
        "colab_type": "text"
      },
      "cell_type": "markdown",
      "source": [
        "## 7th try\n",
        "> 1.   training_iters = 250 ,\n",
        "learning_rate = 0.001 ,\n",
        "batch_size = 600\n",
        "\n",
        "> 2.   xavier_initializer\n",
        "\n",
        ">  3. dropout X\n",
        "\n",
        "> **4. leaky_ReLU 사용**\n",
        "\n",
        "> 5. RMSProp optimizer\n",
        "\n",
        "**result**\n",
        "> Iter 250, Loss= 0.000000, Training Accuracy= 1.00000  \n",
        "Testing Accuracy: 0.83769"
      ]
    },
    {
      "metadata": {
        "id": "msDp52kogA_X",
        "colab_type": "code",
        "outputId": "198d8590-7004-489e-d7ec-aed37222e77d",
        "colab": {
          "base_uri": "https://localhost:8080/",
          "height": 1913
        }
      },
      "cell_type": "code",
      "source": [
        "tf.reset_default_graph()\n",
        "sess = tf.Session()\n",
        "sess.run(tf.global_variables_initializer())\n",
        "\n",
        "tf.reset_default_graph()\n",
        "a = tf.constant([1, 1, 1, 1, 1], dtype=tf.float32)\n",
        "graph_level_seed = 1\n",
        "operation_level_seed = 1\n",
        "tf.set_random_seed(graph_level_seed)\n",
        "b = tf.nn.dropout(a, 0.5, seed=operation_level_seed)\n",
        "\n",
        "\n",
        "training_iters = 250 \n",
        "learning_rate = 0.001 \n",
        "batch_size = 600\n",
        "\n",
        "#data input\n",
        "n_input = 64\n",
        "\n",
        "#total classes\n",
        "n_classes = 3\n",
        "\n",
        "\n",
        "#both placeholders are of type float\n",
        "x = tf.placeholder(\"float\", [None, n_input, n_input,1])\n",
        "y = tf.placeholder(\"float\", [None, n_classes])\n",
        "\n",
        "\n",
        "def conv2d(x, W, b, strides=1):\n",
        "    # Conv2D wrapper, with bias and relu activation\n",
        "    x = tf.nn.conv2d(x, W, strides=[1, strides, strides, 1], padding='SAME')\n",
        "    x = tf.nn.bias_add(x, b)\n",
        "    return tf.nn.leaky_relu(x) \n",
        "\n",
        "  \n",
        "def maxpool2d(x, k=2):\n",
        "    return tf.nn.max_pool(x, ksize=[1, k, k, 1], strides=[1, k, k, 1],padding='SAME')\n",
        "  \n",
        "def dropout2d(x, prob_conv=0.8):\n",
        "  return tf.nn.dropout(x,prob_conv)\n",
        "\n",
        "weights = {\n",
        "    'wc1': tf.get_variable('W0', shape=(3,3,1,32), initializer=tf.contrib.layers.xavier_initializer()), \n",
        "    'wc2': tf.get_variable('W1', shape=(3,3,32,64), initializer=tf.contrib.layers.xavier_initializer()), \n",
        "    'wc3': tf.get_variable('W2', shape=(3,3,64,128), initializer=tf.contrib.layers.xavier_initializer()), \n",
        "    'wd1': tf.get_variable('W3', shape=(8*8*128,128), initializer=tf.contrib.layers.xavier_initializer()), \n",
        "    'out': tf.get_variable('W6', shape=(128,n_classes), initializer=tf.contrib.layers.xavier_initializer()), \n",
        "}\n",
        "biases = {\n",
        "    'bc1': tf.get_variable('B0', shape=(32), initializer=tf.contrib.layers.xavier_initializer()),\n",
        "    'bc2': tf.get_variable('B1', shape=(64), initializer=tf.contrib.layers.xavier_initializer()),\n",
        "    'bc3': tf.get_variable('B2', shape=(128), initializer=tf.contrib.layers.xavier_initializer()),\n",
        "    'bd1': tf.get_variable('B3', shape=(128), initializer=tf.contrib.layers.xavier_initializer()),\n",
        "    'out': tf.get_variable('B4', shape=(n_classes), initializer=tf.contrib.layers.xavier_initializer()),\n",
        "}\n",
        "\n",
        "def conv_net(x, weights, biases, dropout=False):  \n",
        "\n",
        "    conv1 = conv2d(x, weights['wc1'], biases['bc1'])\n",
        "    conv1 = maxpool2d(conv1, k=2)\n",
        "    if dropout==True:\n",
        "      conv1 = dropout2d(conv1)\n",
        "\n",
        "    conv2 = conv2d(conv1, weights['wc2'], biases['bc2'])\n",
        "    conv2 = maxpool2d(conv2, k=2)\n",
        "    if dropout==True:\n",
        "      conv2 = dropout2d(conv2)\n",
        "\n",
        "    conv3 = conv2d(conv2, weights['wc3'], biases['bc3'])\n",
        "    conv3 = maxpool2d(conv3, k=2)\n",
        "    if dropout==True:\n",
        "      conv3 = dropout2d(conv3,prob_conv=0.5)\n",
        "\n",
        "    fc1 = tf.reshape(conv3, [-1, weights['wd1'].get_shape().as_list()[0]])\n",
        "    fc1 = tf.add(tf.matmul(fc1, weights['wd1']), biases['bd1'])\n",
        "    fc1 = tf.nn.relu(fc1)\n",
        "    # Output, class prediction\n",
        "    # finally we multiply the fully connected layer with the weights and add a bias term. \n",
        "    out = tf.add(tf.matmul(fc1, weights['out']), biases['out'])\n",
        "    return out\n",
        "  \n",
        "  \n",
        "  \n",
        "pred = conv_net(x, weights, biases)\n",
        "\n",
        "cost = tf.reduce_mean(tf.nn.softmax_cross_entropy_with_logits(logits=pred, labels=y))\n",
        "\n",
        "optimizer = tf.train.RMSPropOptimizer(learning_rate=learning_rate).minimize(cost)\n",
        "\n",
        "\n",
        "#Here you check whether the index of the maximum value of the predicted image is equal to the actual labelled image. and both will be a column vector.\n",
        "correct_prediction = tf.equal(tf.argmax(pred, 1), tf.argmax(y, 1))\n",
        "\n",
        "#calculate accuracy across all the given images and average them out. \n",
        "accuracy = tf.reduce_mean(tf.cast(correct_prediction, tf.float32))\n",
        "\n",
        "\n",
        "# Initializing the variables\n",
        "init = tf.global_variables_initializer()\n",
        "\n",
        "\n",
        "\n",
        "\n",
        "#######################################################################\n",
        "\n",
        "with tf.Session() as sess:\n",
        "    sess.run(init) \n",
        "    train_loss = []\n",
        "    test_loss = []\n",
        "    train_accuracy = []\n",
        "    test_accuracy = []\n",
        "    summary_writer = tf.summary.FileWriter('./Output', sess.graph)\n",
        "    for i in range(1,training_iters+1):\n",
        "        for batch in range(len(train_X)//batch_size):\n",
        "            batch_x = train_X[batch*batch_size:min((batch+1)*batch_size,len(train_X))]\n",
        "            batch_y = train_y[batch*batch_size:min((batch+1)*batch_size,len(train_y))]    \n",
        "            # Run optimization op (backprop).\n",
        "                # Calculate batch loss and accuracy\n",
        "            opt = sess.run(optimizer, feed_dict={x: batch_x,\n",
        "                                                              y: batch_y})\n",
        "            loss, acc = sess.run([cost, accuracy], feed_dict={x: batch_x,\n",
        "                                                              y: batch_y})\n",
        "        if i%10==0 :\n",
        "          print(\"Iter \" + str(i) + \", Loss= \" + \\\n",
        "                        \"{:.6f}\".format(loss) + \", Training Accuracy= \" + \\\n",
        "                        \"{:.5f}\".format(acc))\n",
        "          print(\"Optimization Finished!\")\n",
        "\n",
        "          # Calculate accuracy for all test images\n",
        "          test_acc,valid_loss = sess.run([accuracy,cost], feed_dict={x: test_X, y: test_y})\n",
        "          train_loss.append(loss)\n",
        "          test_loss.append(valid_loss)\n",
        "          train_accuracy.append(acc)\n",
        "          test_accuracy.append(test_acc)\n",
        "          print(\"Testing Accuracy:\",\"{:.5f}\".format(test_acc))\n",
        "    results = sess.run(correct_prediction,feed_dict={ x: test_X, y: test_y})\n",
        "    summary_writer.close()\n",
        "    \n",
        "    ##########################################################\n",
        "    \n",
        "plt.plot(range(len(train_loss)), train_loss, 'b', label='Training loss')\n",
        "plt.plot(range(len(train_loss)), test_loss, 'r', label='Test loss')\n",
        "plt.title('Training and Test loss')\n",
        "plt.xlabel('Epochs ',fontsize=16)\n",
        "plt.ylabel('Loss',fontsize=16)\n",
        "plt.legend()\n",
        "plt.figure()\n",
        "plt.show()\n",
        "\n",
        "\n"
      ],
      "execution_count": 0,
      "outputs": [
        {
          "output_type": "stream",
          "text": [
            "WARNING:tensorflow:From <ipython-input-9-f74ca8c53bf9>:86: softmax_cross_entropy_with_logits (from tensorflow.python.ops.nn_ops) is deprecated and will be removed in a future version.\n",
            "Instructions for updating:\n",
            "\n",
            "Future major versions of TensorFlow will allow gradients to flow\n",
            "into the labels input on backprop by default.\n",
            "\n",
            "See `tf.nn.softmax_cross_entropy_with_logits_v2`.\n",
            "\n",
            "Iter 10, Loss= 0.000033, Training Accuracy= 1.00000\n",
            "Optimization Finished!\n",
            "Testing Accuracy: 0.07692\n",
            "Iter 20, Loss= 0.000137, Training Accuracy= 1.00000\n",
            "Optimization Finished!\n",
            "Testing Accuracy: 0.11000\n",
            "Iter 30, Loss= 0.027139, Training Accuracy= 0.99333\n",
            "Optimization Finished!\n",
            "Testing Accuracy: 0.22923\n",
            "Iter 40, Loss= 0.010331, Training Accuracy= 0.99833\n",
            "Optimization Finished!\n",
            "Testing Accuracy: 0.30231\n",
            "Iter 50, Loss= 0.011771, Training Accuracy= 0.99833\n",
            "Optimization Finished!\n",
            "Testing Accuracy: 0.34308\n",
            "Iter 60, Loss= 0.028533, Training Accuracy= 0.99500\n",
            "Optimization Finished!\n",
            "Testing Accuracy: 0.53846\n",
            "Iter 70, Loss= 0.033569, Training Accuracy= 0.99333\n",
            "Optimization Finished!\n",
            "Testing Accuracy: 0.54846\n",
            "Iter 80, Loss= 0.003634, Training Accuracy= 0.99833\n",
            "Optimization Finished!\n",
            "Testing Accuracy: 0.58308\n",
            "Iter 90, Loss= 0.001526, Training Accuracy= 1.00000\n",
            "Optimization Finished!\n",
            "Testing Accuracy: 0.67846\n",
            "Iter 100, Loss= 0.000610, Training Accuracy= 1.00000\n",
            "Optimization Finished!\n",
            "Testing Accuracy: 0.69385\n",
            "Iter 110, Loss= 0.000607, Training Accuracy= 1.00000\n",
            "Optimization Finished!\n",
            "Testing Accuracy: 0.71538\n",
            "Iter 120, Loss= 0.000007, Training Accuracy= 1.00000\n",
            "Optimization Finished!\n",
            "Testing Accuracy: 0.76077\n",
            "Iter 130, Loss= 0.000395, Training Accuracy= 1.00000\n",
            "Optimization Finished!\n",
            "Testing Accuracy: 0.60308\n",
            "Iter 140, Loss= 0.000022, Training Accuracy= 1.00000\n",
            "Optimization Finished!\n",
            "Testing Accuracy: 0.67923\n",
            "Iter 150, Loss= 0.000000, Training Accuracy= 1.00000\n",
            "Optimization Finished!\n",
            "Testing Accuracy: 0.71154\n",
            "Iter 160, Loss= 0.000000, Training Accuracy= 1.00000\n",
            "Optimization Finished!\n",
            "Testing Accuracy: 0.74154\n",
            "Iter 170, Loss= 0.000045, Training Accuracy= 1.00000\n",
            "Optimization Finished!\n",
            "Testing Accuracy: 0.81154\n",
            "Iter 180, Loss= 0.000000, Training Accuracy= 1.00000\n",
            "Optimization Finished!\n",
            "Testing Accuracy: 0.77615\n",
            "Iter 190, Loss= 0.000013, Training Accuracy= 1.00000\n",
            "Optimization Finished!\n",
            "Testing Accuracy: 0.81692\n",
            "Iter 200, Loss= 0.000000, Training Accuracy= 1.00000\n",
            "Optimization Finished!\n",
            "Testing Accuracy: 0.83615\n",
            "Iter 210, Loss= 0.000000, Training Accuracy= 1.00000\n",
            "Optimization Finished!\n",
            "Testing Accuracy: 0.78077\n",
            "Iter 220, Loss= 0.000000, Training Accuracy= 1.00000\n",
            "Optimization Finished!\n",
            "Testing Accuracy: 0.81000\n",
            "Iter 230, Loss= 0.000001, Training Accuracy= 1.00000\n",
            "Optimization Finished!\n",
            "Testing Accuracy: 0.82615\n",
            "Iter 240, Loss= 0.000000, Training Accuracy= 1.00000\n",
            "Optimization Finished!\n",
            "Testing Accuracy: 0.83385\n",
            "Iter 250, Loss= 0.000000, Training Accuracy= 1.00000\n",
            "Optimization Finished!\n",
            "Testing Accuracy: 0.83769\n"
          ],
          "name": "stdout"
        },
        {
          "output_type": "display_data",
          "data": {
            "image/png": "[encoded data removed]",
            "text/plain": [
              "<matplotlib.figure.Figure at 0x7f68d0d506d8>"
            ]
          },
          "metadata": {
            "tags": []
          }
        },
        {
          "output_type": "display_data",
          "data": {
            "text/plain": [
              "<matplotlib.figure.Figure at 0x7f68d0430e80>"
            ]
          },
          "metadata": {
            "tags": []
          }
        }
      ]
    },
    {
      "metadata": {
        "id": "xFhlymaEgJPv",
        "colab_type": "code",
        "outputId": "62c3ec2e-d8a1-4555-8aeb-4448b7bd1cf6",
        "colab": {
          "base_uri": "https://localhost:8080/",
          "height": 417
        }
      },
      "cell_type": "code",
      "source": [
        "plt.plot(range(len(train_loss)), train_accuracy, 'b', label='Training Accuracy')\n",
        "plt.plot(range(len(train_loss)), test_accuracy, 'r', label='Test Accuracy')\n",
        "plt.title('Training and Test Accuracy')\n",
        "plt.xlabel('Epochs ',fontsize=16)\n",
        "plt.ylabel('Loss',fontsize=16)\n",
        "plt.legend()\n",
        "plt.figure()"
      ],
      "execution_count": 0,
      "outputs": [
        {
          "output_type": "execute_result",
          "data": {
            "text/plain": [
              "<matplotlib.figure.Figure at 0x7f68d0cb5b38>"
            ]
          },
          "metadata": {
            "tags": []
          },
          "execution_count": 10
        },
        {
          "output_type": "display_data",
          "data": {
            "image/png": "[encoded data removed]",
            "text/plain": [
              "<matplotlib.figure.Figure at 0x7f68e27ef0b8>"
            ]
          },
          "metadata": {
            "tags": []
          }
        },
        {
          "output_type": "display_data",
          "data": {
            "text/plain": [
              "<matplotlib.figure.Figure at 0x7f68d0cb5b38>"
            ]
          },
          "metadata": {
            "tags": []
          }
        }
      ]
    },
    {
      "metadata": {
        "id": "ns9fUwN4jXQG",
        "colab_type": "text"
      },
      "cell_type": "markdown",
      "source": [
        "## 8th try\n",
        "> 1.   training_iters = 300 ,\n",
        "learning_rate = 0.001 ,\n",
        "batch_size = 600\n",
        "\n",
        "> 2.   xavier_initializer\n",
        "\n",
        ">  3. dropout X\n",
        "\n",
        "> 4. leaky_ReLU 사용\n",
        "\n",
        "> **5. Adam optimizer**\n",
        "\n",
        "**result**\n",
        "> Iter 300, Loss= 0.068626, Training Accuracy= 0.97333  \n",
        "Testing Accuracy: 0.81231"
      ]
    },
    {
      "metadata": {
        "id": "GVyjzz1BjOl5",
        "colab_type": "code",
        "outputId": "e6117dba-8922-46d7-b5b7-55fb0e8bdd95",
        "colab": {
          "base_uri": "https://localhost:8080/",
          "height": 2019
        }
      },
      "cell_type": "code",
      "source": [
        "tf.reset_default_graph()\n",
        "sess = tf.Session()\n",
        "sess.run(tf.global_variables_initializer())\n",
        "\n",
        "tf.reset_default_graph()\n",
        "a = tf.constant([1, 1, 1, 1, 1], dtype=tf.float32)\n",
        "graph_level_seed = 1\n",
        "operation_level_seed = 1\n",
        "tf.set_random_seed(graph_level_seed)\n",
        "b = tf.nn.dropout(a, 0.5, seed=operation_level_seed)\n",
        "\n",
        "\n",
        "training_iters = 300\n",
        "learning_rate = 0.001 \n",
        "batch_size = 600\n",
        "\n",
        "#data input\n",
        "n_input = 64\n",
        "\n",
        "#total classes\n",
        "n_classes = 3\n",
        "\n",
        "\n",
        "#both placeholders are of type float\n",
        "x = tf.placeholder(\"float\", [None, n_input, n_input,1])\n",
        "y = tf.placeholder(\"float\", [None, n_classes])\n",
        "\n",
        "\n",
        "def conv2d(x, W, b, strides=1):\n",
        "    # Conv2D wrapper, with bias and relu activation\n",
        "    x = tf.nn.conv2d(x, W, strides=[1, strides, strides, 1], padding='SAME')\n",
        "    x = tf.nn.bias_add(x, b)\n",
        "    return tf.nn.leaky_relu(x) \n",
        "\n",
        "  \n",
        "def maxpool2d(x, k=2):\n",
        "    return tf.nn.max_pool(x, ksize=[1, k, k, 1], strides=[1, k, k, 1],padding='SAME')\n",
        "  \n",
        "def dropout2d(x, prob_conv=0.8):\n",
        "  return tf.nn.dropout(x,prob_conv)\n",
        "\n",
        "weights = {\n",
        "    'wc1': tf.get_variable('W0', shape=(3,3,1,32), initializer=tf.contrib.layers.xavier_initializer()), \n",
        "    'wc2': tf.get_variable('W1', shape=(3,3,32,64), initializer=tf.contrib.layers.xavier_initializer()), \n",
        "    'wc3': tf.get_variable('W2', shape=(3,3,64,128), initializer=tf.contrib.layers.xavier_initializer()), \n",
        "    'wd1': tf.get_variable('W3', shape=(8*8*128,128), initializer=tf.contrib.layers.xavier_initializer()), \n",
        "    'out': tf.get_variable('W6', shape=(128,n_classes), initializer=tf.contrib.layers.xavier_initializer()), \n",
        "}\n",
        "biases = {\n",
        "    'bc1': tf.get_variable('B0', shape=(32), initializer=tf.contrib.layers.xavier_initializer()),\n",
        "    'bc2': tf.get_variable('B1', shape=(64), initializer=tf.contrib.layers.xavier_initializer()),\n",
        "    'bc3': tf.get_variable('B2', shape=(128), initializer=tf.contrib.layers.xavier_initializer()),\n",
        "    'bd1': tf.get_variable('B3', shape=(128), initializer=tf.contrib.layers.xavier_initializer()),\n",
        "    'out': tf.get_variable('B4', shape=(n_classes), initializer=tf.contrib.layers.xavier_initializer()),\n",
        "}\n",
        "\n",
        "def conv_net(x, weights, biases, dropout=False):  \n",
        "\n",
        "    conv1 = conv2d(x, weights['wc1'], biases['bc1'])\n",
        "    conv1 = maxpool2d(conv1, k=2)\n",
        "    if dropout==True:\n",
        "      conv1 = dropout2d(conv1)\n",
        "\n",
        "    conv2 = conv2d(conv1, weights['wc2'], biases['bc2'])\n",
        "    conv2 = maxpool2d(conv2, k=2)\n",
        "    if dropout==True:\n",
        "      conv2 = dropout2d(conv2)\n",
        "\n",
        "    conv3 = conv2d(conv2, weights['wc3'], biases['bc3'])\n",
        "    conv3 = maxpool2d(conv3, k=2)\n",
        "    if dropout==True:\n",
        "      conv3 = dropout2d(conv3,prob_conv=0.5)\n",
        "\n",
        "    fc1 = tf.reshape(conv3, [-1, weights['wd1'].get_shape().as_list()[0]])\n",
        "    fc1 = tf.add(tf.matmul(fc1, weights['wd1']), biases['bd1'])\n",
        "    fc1 = tf.nn.relu(fc1)\n",
        "    # Output, class prediction\n",
        "    # finally we multiply the fully connected layer with the weights and add a bias term. \n",
        "    out = tf.add(tf.matmul(fc1, weights['out']), biases['out'])\n",
        "    return out\n",
        "  \n",
        "  \n",
        "  \n",
        "pred = conv_net(x, weights, biases)\n",
        "\n",
        "cost = tf.reduce_mean(tf.nn.softmax_cross_entropy_with_logits(logits=pred, labels=y))\n",
        "\n",
        "optimizer = tf.train.AdamOptimizer(learning_rate=learning_rate).minimize(cost)\n",
        "\n",
        "\n",
        "#Here you check whether the index of the maximum value of the predicted image is equal to the actual labelled image. and both will be a column vector.\n",
        "correct_prediction = tf.equal(tf.argmax(pred, 1), tf.argmax(y, 1))\n",
        "\n",
        "#calculate accuracy across all the given images and average them out. \n",
        "accuracy = tf.reduce_mean(tf.cast(correct_prediction, tf.float32))\n",
        "\n",
        "\n",
        "# Initializing the variables\n",
        "init = tf.global_variables_initializer()\n",
        "\n",
        "\n",
        "\n",
        "\n",
        "#######################################################################\n",
        "\n",
        "with tf.Session() as sess:\n",
        "    sess.run(init) \n",
        "    train_loss = []\n",
        "    test_loss = []\n",
        "    train_accuracy = []\n",
        "    test_accuracy = []\n",
        "    summary_writer = tf.summary.FileWriter('./Output', sess.graph)\n",
        "    for i in range(1,training_iters+1):\n",
        "        for batch in range(len(train_X)//batch_size):\n",
        "            batch_x = train_X[batch*batch_size:min((batch+1)*batch_size,len(train_X))]\n",
        "            batch_y = train_y[batch*batch_size:min((batch+1)*batch_size,len(train_y))]    \n",
        "            # Run optimization op (backprop).\n",
        "                # Calculate batch loss and accuracy\n",
        "            opt = sess.run(optimizer, feed_dict={x: batch_x,\n",
        "                                                              y: batch_y})\n",
        "            loss, acc = sess.run([cost, accuracy], feed_dict={x: batch_x,\n",
        "                                                              y: batch_y})\n",
        "        if i%10==0 :\n",
        "          print(\"Iter \" + str(i) + \", Loss= \" + \\\n",
        "                        \"{:.6f}\".format(loss) + \", Training Accuracy= \" + \\\n",
        "                        \"{:.5f}\".format(acc))\n",
        "          print(\"Optimization Finished!\")\n",
        "\n",
        "          # Calculate accuracy for all test images\n",
        "          test_acc,valid_loss = sess.run([accuracy,cost], feed_dict={x: test_X, y: test_y})\n",
        "          train_loss.append(loss)\n",
        "          test_loss.append(valid_loss)\n",
        "          train_accuracy.append(acc)\n",
        "          test_accuracy.append(test_acc)\n",
        "          print(\"Testing Accuracy:\",\"{:.5f}\".format(test_acc))\n",
        "    results = sess.run(correct_prediction,feed_dict={ x: test_X, y: test_y})\n",
        "    summary_writer.close()\n",
        "    \n",
        "    ##########################################################\n",
        "    \n",
        "plt.plot(range(len(train_loss)), train_loss, 'b', label='Training loss')\n",
        "plt.plot(range(len(train_loss)), test_loss, 'r', label='Test loss')\n",
        "plt.title('Training and Test loss')\n",
        "plt.xlabel('Epochs ',fontsize=16)\n",
        "plt.ylabel('Loss',fontsize=16)\n",
        "plt.legend()\n",
        "plt.figure()\n",
        "plt.show()\n",
        "\n",
        "\n",
        "\n",
        "\n"
      ],
      "execution_count": 0,
      "outputs": [
        {
          "output_type": "stream",
          "text": [
            "Iter 10, Loss= 1.314059, Training Accuracy= 0.28833\n",
            "Optimization Finished!\n",
            "Testing Accuracy: 0.59231\n",
            "Iter 20, Loss= 0.584877, Training Accuracy= 0.66000\n",
            "Optimization Finished!\n",
            "Testing Accuracy: 0.62462\n",
            "Iter 30, Loss= 0.604794, Training Accuracy= 0.72000\n",
            "Optimization Finished!\n",
            "Testing Accuracy: 0.66692\n",
            "Iter 40, Loss= 0.425569, Training Accuracy= 0.75667\n",
            "Optimization Finished!\n",
            "Testing Accuracy: 0.67154\n",
            "Iter 50, Loss= 0.351313, Training Accuracy= 0.85000\n",
            "Optimization Finished!\n",
            "Testing Accuracy: 0.69000\n",
            "Iter 60, Loss= 0.276146, Training Accuracy= 0.89000\n",
            "Optimization Finished!\n",
            "Testing Accuracy: 0.70769\n",
            "Iter 70, Loss= 0.226223, Training Accuracy= 0.90500\n",
            "Optimization Finished!\n",
            "Testing Accuracy: 0.71846\n",
            "Iter 80, Loss= 0.190772, Training Accuracy= 0.92833\n",
            "Optimization Finished!\n",
            "Testing Accuracy: 0.73154\n",
            "Iter 90, Loss= 0.168502, Training Accuracy= 0.93333\n",
            "Optimization Finished!\n",
            "Testing Accuracy: 0.75231\n",
            "Iter 100, Loss= 0.146458, Training Accuracy= 0.94000\n",
            "Optimization Finished!\n",
            "Testing Accuracy: 0.76846\n",
            "Iter 110, Loss= 0.121679, Training Accuracy= 0.95500\n",
            "Optimization Finished!\n",
            "Testing Accuracy: 0.77692\n",
            "Iter 120, Loss= 0.100025, Training Accuracy= 0.96333\n",
            "Optimization Finished!\n",
            "Testing Accuracy: 0.78615\n",
            "Iter 130, Loss= 0.132021, Training Accuracy= 0.94667\n",
            "Optimization Finished!\n",
            "Testing Accuracy: 0.78846\n",
            "Iter 140, Loss= 0.085439, Training Accuracy= 0.97500\n",
            "Optimization Finished!\n",
            "Testing Accuracy: 0.80538\n",
            "Iter 150, Loss= 0.089082, Training Accuracy= 0.97833\n",
            "Optimization Finished!\n",
            "Testing Accuracy: 0.78692\n",
            "Iter 160, Loss= 0.075430, Training Accuracy= 0.97833\n",
            "Optimization Finished!\n",
            "Testing Accuracy: 0.81231\n",
            "Iter 170, Loss= 0.047973, Training Accuracy= 0.98833\n",
            "Optimization Finished!\n",
            "Testing Accuracy: 0.80923\n",
            "Iter 180, Loss= 0.042243, Training Accuracy= 0.98833\n",
            "Optimization Finished!\n",
            "Testing Accuracy: 0.80462\n",
            "Iter 190, Loss= 0.053542, Training Accuracy= 0.98667\n",
            "Optimization Finished!\n",
            "Testing Accuracy: 0.81000\n",
            "Iter 200, Loss= 0.032404, Training Accuracy= 0.99000\n",
            "Optimization Finished!\n",
            "Testing Accuracy: 0.81846\n",
            "Iter 210, Loss= 0.028818, Training Accuracy= 0.99167\n",
            "Optimization Finished!\n",
            "Testing Accuracy: 0.82615\n",
            "Iter 220, Loss= 0.015531, Training Accuracy= 1.00000\n",
            "Optimization Finished!\n",
            "Testing Accuracy: 0.11615\n",
            "Iter 230, Loss= 0.588608, Training Accuracy= 0.61833\n",
            "Optimization Finished!\n",
            "Testing Accuracy: 0.73769\n",
            "Iter 240, Loss= 0.494140, Training Accuracy= 0.75667\n",
            "Optimization Finished!\n",
            "Testing Accuracy: 0.76154\n",
            "Iter 250, Loss= 0.264615, Training Accuracy= 0.86667\n",
            "Optimization Finished!\n",
            "Testing Accuracy: 0.78385\n",
            "Iter 260, Loss= 0.288588, Training Accuracy= 0.86167\n",
            "Optimization Finished!\n",
            "Testing Accuracy: 0.78462\n",
            "Iter 270, Loss= 0.125895, Training Accuracy= 0.95167\n",
            "Optimization Finished!\n",
            "Testing Accuracy: 0.80000\n",
            "Iter 280, Loss= 0.089001, Training Accuracy= 0.96333\n",
            "Optimization Finished!\n",
            "Testing Accuracy: 0.80692\n",
            "Iter 290, Loss= 0.066578, Training Accuracy= 0.97500\n",
            "Optimization Finished!\n",
            "Testing Accuracy: 0.81692\n",
            "Iter 300, Loss= 0.068626, Training Accuracy= 0.97333\n",
            "Optimization Finished!\n",
            "Testing Accuracy: 0.81231\n"
          ],
          "name": "stdout"
        },
        {
          "output_type": "display_data",
          "data": {
            "image/png": "[encoded data removed]",
            "text/plain": [
              "<matplotlib.figure.Figure at 0x7f68d046eeb8>"
            ]
          },
          "metadata": {
            "tags": []
          }
        },
        {
          "output_type": "display_data",
          "data": {
            "text/plain": [
              "<matplotlib.figure.Figure at 0x7f68db31f240>"
            ]
          },
          "metadata": {
            "tags": []
          }
        }
      ]
    },
    {
      "metadata": {
        "id": "Wqt1IYWhjWDQ",
        "colab_type": "code",
        "outputId": "27f5fcb8-73f4-462b-a0c5-994eaef5f36a",
        "colab": {
          "base_uri": "https://localhost:8080/",
          "height": 417
        }
      },
      "cell_type": "code",
      "source": [
        "plt.plot(range(len(train_loss)), train_accuracy, 'b', label='Training Accuracy')\n",
        "plt.plot(range(len(train_loss)), test_accuracy, 'r', label='Test Accuracy')\n",
        "plt.title('Training and Test Accuracy')\n",
        "plt.xlabel('Epochs ',fontsize=16)\n",
        "plt.ylabel('Loss',fontsize=16)\n",
        "plt.legend()\n",
        "plt.figure()"
      ],
      "execution_count": 0,
      "outputs": [
        {
          "output_type": "execute_result",
          "data": {
            "text/plain": [
              "<matplotlib.figure.Figure at 0x7f68d04104a8>"
            ]
          },
          "metadata": {
            "tags": []
          },
          "execution_count": 12
        },
        {
          "output_type": "display_data",
          "data": {
            "image/png": "[encoded data removed]",
            "text/plain": [
              "<matplotlib.figure.Figure at 0x7f68d0417f98>"
            ]
          },
          "metadata": {
            "tags": []
          }
        },
        {
          "output_type": "display_data",
          "data": {
            "text/plain": [
              "<matplotlib.figure.Figure at 0x7f68d04104a8>"
            ]
          },
          "metadata": {
            "tags": []
          }
        }
      ]
    },
    {
      "metadata": {
        "id": "6LAQzIPHRHBG",
        "colab_type": "text"
      },
      "cell_type": "markdown",
      "source": [
        "## 층 1개 더 추가\n",
        "\n",
        "## 1st try\n",
        "> 1.   training_iters = 250,\n",
        "learning_rate = 0.001 ,\n",
        "batch_size = 600\n",
        "\n",
        "> 2.   xavier_initializer\n",
        "\n",
        ">  3. dropout X\n",
        "\n",
        "> 4. ReLU 사용\n",
        "\n",
        "> 5. RMSProp optimizer\n",
        "\n",
        "**result**\n",
        "> Iter 250, Loss= 0.000000, Training Accuracy= 1.00000  \n",
        "Testing Accuracy: 0.84462"
      ]
    },
    {
      "metadata": {
        "id": "4kmvDo-TRFP5",
        "colab_type": "code",
        "outputId": "ed67be3a-f872-46db-d558-9bd2f4735ad5",
        "colab": {
          "base_uri": "https://localhost:8080/",
          "height": 1749
        }
      },
      "cell_type": "code",
      "source": [
        "tf.reset_default_graph()\n",
        "sess = tf.Session()\n",
        "sess.run(tf.global_variables_initializer())\n",
        "\n",
        "tf.reset_default_graph()\n",
        "a = tf.constant([1, 1, 1, 1, 1], dtype=tf.float32)\n",
        "graph_level_seed = 1\n",
        "operation_level_seed = 1\n",
        "tf.set_random_seed(graph_level_seed)\n",
        "b = tf.nn.dropout(a, 0.5, seed=operation_level_seed)\n",
        "\n",
        "\n",
        "training_iters = 250 \n",
        "learning_rate = 0.001 \n",
        "batch_size = 600\n",
        "\n",
        "#data input\n",
        "n_input = 64\n",
        "\n",
        "#total classes\n",
        "n_classes = 3\n",
        "\n",
        "\n",
        "#both placeholders are of type float\n",
        "x = tf.placeholder(\"float\", [None, n_input, n_input,1])\n",
        "y = tf.placeholder(\"float\", [None, n_classes])\n",
        "\n",
        "\n",
        "def conv2d(x, W, b, strides=1):\n",
        "    # Conv2D wrapper, with bias and relu activation\n",
        "    x = tf.nn.conv2d(x, W, strides=[1, strides, strides, 1], padding='SAME')\n",
        "    x = tf.nn.bias_add(x, b)\n",
        "    return tf.nn.leaky_relu(x) \n",
        "\n",
        "  \n",
        "def maxpool2d(x, k=2):\n",
        "    return tf.nn.max_pool(x, ksize=[1, k, k, 1], strides=[1, k, k, 1],padding='SAME')\n",
        "  \n",
        "def dropout2d(x, prob_conv=0.8):\n",
        "  return tf.nn.dropout(x,prob_conv)\n",
        "  \n",
        "weights = {\n",
        "    'wc1': tf.get_variable('W0', shape=(3,3,1,32), initializer=tf.contrib.layers.xavier_initializer()), \n",
        "    'wc2': tf.get_variable('W1', shape=(3,3,32,64), initializer=tf.contrib.layers.xavier_initializer()), \n",
        "    'wc3': tf.get_variable('W2', shape=(3,3,64,128), initializer=tf.contrib.layers.xavier_initializer()), \n",
        "    'wc4': tf.get_variable('W3', shape=(3,3,128,256), initializer=tf.contrib.layers.xavier_initializer()),\n",
        "    'wd1': tf.get_variable('W4', shape=(4*4*256,256), initializer=tf.contrib.layers.xavier_initializer()), \n",
        "    'out': tf.get_variable('W6', shape=(256,n_classes), initializer=tf.contrib.layers.xavier_initializer()), \n",
        "}\n",
        "biases = {\n",
        "    'bc1': tf.get_variable('B0', shape=(32), initializer=tf.contrib.layers.xavier_initializer()),\n",
        "    'bc2': tf.get_variable('B1', shape=(64), initializer=tf.contrib.layers.xavier_initializer()),\n",
        "    'bc3': tf.get_variable('B2', shape=(128), initializer=tf.contrib.layers.xavier_initializer()),\n",
        "    'bc4': tf.get_variable('B3', shape=(256), initializer=tf.contrib.layers.xavier_initializer()),\n",
        "    'bd1': tf.get_variable('B4', shape=(256), initializer=tf.contrib.layers.xavier_initializer()),\n",
        "    'out': tf.get_variable('B5', shape=(n_classes), initializer=tf.contrib.layers.xavier_initializer()),\n",
        "}\n",
        "\n",
        "def conv_net(x, weights, biases, dropout=False):  \n",
        "\n",
        "    conv1 = conv2d(x, weights['wc1'], biases['bc1'])\n",
        "    conv1 = maxpool2d(conv1, k=2)\n",
        "    if dropout==True:\n",
        "      conv1 = dropout2d(conv1)\n",
        "\n",
        "    conv2 = conv2d(conv1, weights['wc2'], biases['bc2'])\n",
        "    conv2 = maxpool2d(conv2, k=2)\n",
        "    if dropout==True:\n",
        "      conv2 = dropout2d(conv2)\n",
        "\n",
        "    conv3 = conv2d(conv2, weights['wc3'], biases['bc3'])\n",
        "    conv3 = maxpool2d(conv3, k=2)\n",
        "    if dropout==True:\n",
        "      conv3 = dropout2d(conv3,prob_conv=0.5)\n",
        "      \n",
        "    conv4 = conv2d(conv3, weights['wc4'], biases['bc4'])\n",
        "    conv4 = maxpool2d(conv4, k=2)\n",
        "\n",
        "    fc1 = tf.reshape(conv4, [-1, weights['wd1'].get_shape().as_list()[0]])\n",
        "    fc1 = tf.add(tf.matmul(fc1, weights['wd1']), biases['bd1'])\n",
        "    fc1 = tf.nn.relu(fc1)\n",
        "    # Output, class prediction\n",
        "    # finally we multiply the fully connected layer with the weights and add a bias term. \n",
        "    out = tf.add(tf.matmul(fc1, weights['out']), biases['out'])\n",
        "    return out\n",
        "  \n",
        "  \n",
        "  \n",
        "pred = conv_net(x, weights, biases)\n",
        "\n",
        "cost = tf.reduce_mean(tf.nn.softmax_cross_entropy_with_logits(logits=pred, labels=y))\n",
        "\n",
        "optimizer = tf.train.RMSPropOptimizer(learning_rate=learning_rate).minimize(cost)\n",
        "\n",
        "\n",
        "#Here you check whether the index of the maximum value of the predicted image is equal to the actual labelled image. and both will be a column vector.\n",
        "correct_prediction = tf.equal(tf.argmax(pred, 1), tf.argmax(y, 1))\n",
        "\n",
        "#calculate accuracy across all the given images and average them out. \n",
        "accuracy = tf.reduce_mean(tf.cast(correct_prediction, tf.float32))\n",
        "\n",
        "\n",
        "# Initializing the variables\n",
        "init = tf.global_variables_initializer()\n",
        "\n",
        "#######################################################################\n",
        "\n",
        "with tf.Session() as sess:\n",
        "    sess.run(init) \n",
        "    train_loss = []\n",
        "    test_loss = []\n",
        "    train_accuracy = []\n",
        "    test_accuracy = []\n",
        "    summary_writer = tf.summary.FileWriter('./Output', sess.graph)\n",
        "    for i in range(1,training_iters+1):\n",
        "        for batch in range(len(train_X)//batch_size):\n",
        "            batch_x = train_X[batch*batch_size:min((batch+1)*batch_size,len(train_X))]\n",
        "            batch_y = train_y[batch*batch_size:min((batch+1)*batch_size,len(train_y))]    \n",
        "            # Run optimization op (backprop).\n",
        "                # Calculate batch loss and accuracy\n",
        "            opt = sess.run(optimizer, feed_dict={x: batch_x,\n",
        "                                                              y: batch_y})\n",
        "            loss, acc = sess.run([cost, accuracy], feed_dict={x: batch_x,\n",
        "                                                              y: batch_y})\n",
        "        if i%10==0 :\n",
        "          print(\"Iter \" + str(i) + \", Loss= \" + \\\n",
        "                        \"{:.6f}\".format(loss) + \", Training Accuracy= \" + \\\n",
        "                        \"{:.5f}\".format(acc))\n",
        "          print(\"Optimization Finished!\")\n",
        "\n",
        "          # Calculate accuracy for all test images\n",
        "          test_acc,valid_loss = sess.run([accuracy,cost], feed_dict={x: test_X, y: test_y})\n",
        "          train_loss.append(loss)\n",
        "          test_loss.append(valid_loss)\n",
        "          train_accuracy.append(acc)\n",
        "          test_accuracy.append(test_acc)\n",
        "          print(\"Testing Accuracy:\",\"{:.5f}\".format(test_acc))\n",
        "    results = sess.run(correct_prediction,feed_dict={ x: test_X, y: test_y})\n",
        "    summary_writer.close()\n",
        "    \n",
        "    ##########################################################\n",
        "    \n",
        "plt.plot(range(len(train_loss)), train_loss, 'b', label='Training loss')\n",
        "plt.plot(range(len(train_loss)), test_loss, 'r', label='Test loss')\n",
        "plt.title('Training and Test loss')\n",
        "plt.xlabel('Epochs ',fontsize=16)\n",
        "plt.ylabel('Loss',fontsize=16)\n",
        "plt.legend()\n",
        "plt.figure()\n",
        "plt.show()\n"
      ],
      "execution_count": 0,
      "outputs": [
        {
          "output_type": "stream",
          "text": [
            "Iter 10, Loss= 0.098853, Training Accuracy= 0.97167\n",
            "Optimization Finished!\n",
            "Testing Accuracy: 0.15231\n",
            "Iter 20, Loss= 0.112176, Training Accuracy= 0.94833\n",
            "Optimization Finished!\n",
            "Testing Accuracy: 0.35231\n",
            "Iter 30, Loss= 0.033056, Training Accuracy= 0.99000\n",
            "Optimization Finished!\n",
            "Testing Accuracy: 0.29154\n",
            "Iter 40, Loss= 0.019070, Training Accuracy= 0.99333\n",
            "Optimization Finished!\n",
            "Testing Accuracy: 0.40615\n",
            "Iter 50, Loss= 0.028991, Training Accuracy= 0.99333\n",
            "Optimization Finished!\n",
            "Testing Accuracy: 0.48615\n",
            "Iter 60, Loss= 0.008253, Training Accuracy= 0.99833\n",
            "Optimization Finished!\n",
            "Testing Accuracy: 0.50154\n",
            "Iter 70, Loss= 0.001310, Training Accuracy= 1.00000\n",
            "Optimization Finished!\n",
            "Testing Accuracy: 0.55538\n",
            "Iter 80, Loss= 0.000106, Training Accuracy= 1.00000\n",
            "Optimization Finished!\n",
            "Testing Accuracy: 0.52308\n",
            "Iter 90, Loss= 0.000140, Training Accuracy= 1.00000\n",
            "Optimization Finished!\n",
            "Testing Accuracy: 0.61231\n",
            "Iter 100, Loss= 0.000004, Training Accuracy= 1.00000\n",
            "Optimization Finished!\n",
            "Testing Accuracy: 0.66231\n",
            "Iter 110, Loss= 0.000064, Training Accuracy= 1.00000\n",
            "Optimization Finished!\n",
            "Testing Accuracy: 0.63385\n",
            "Iter 120, Loss= 0.000009, Training Accuracy= 1.00000\n",
            "Optimization Finished!\n",
            "Testing Accuracy: 0.66769\n",
            "Iter 130, Loss= 0.000082, Training Accuracy= 1.00000\n",
            "Optimization Finished!\n",
            "Testing Accuracy: 0.75462\n",
            "Iter 140, Loss= 0.000002, Training Accuracy= 1.00000\n",
            "Optimization Finished!\n",
            "Testing Accuracy: 0.76077\n",
            "Iter 150, Loss= 0.000069, Training Accuracy= 1.00000\n",
            "Optimization Finished!\n",
            "Testing Accuracy: 0.76462\n",
            "Iter 160, Loss= 0.000010, Training Accuracy= 1.00000\n",
            "Optimization Finished!\n",
            "Testing Accuracy: 0.79000\n",
            "Iter 170, Loss= 0.000000, Training Accuracy= 1.00000\n",
            "Optimization Finished!\n",
            "Testing Accuracy: 0.61231\n",
            "Iter 180, Loss= 0.000001, Training Accuracy= 1.00000\n",
            "Optimization Finished!\n",
            "Testing Accuracy: 0.78154\n",
            "Iter 190, Loss= 0.000000, Training Accuracy= 1.00000\n",
            "Optimization Finished!\n",
            "Testing Accuracy: 0.78769\n",
            "Iter 200, Loss= 0.000000, Training Accuracy= 1.00000\n",
            "Optimization Finished!\n",
            "Testing Accuracy: 0.73462\n",
            "Iter 210, Loss= 0.000000, Training Accuracy= 1.00000\n",
            "Optimization Finished!\n",
            "Testing Accuracy: 0.84077\n",
            "Iter 220, Loss= 0.000000, Training Accuracy= 1.00000\n",
            "Optimization Finished!\n",
            "Testing Accuracy: 0.84385\n",
            "Iter 230, Loss= 0.000000, Training Accuracy= 1.00000\n",
            "Optimization Finished!\n",
            "Testing Accuracy: 0.84231\n",
            "Iter 240, Loss= 0.000000, Training Accuracy= 1.00000\n",
            "Optimization Finished!\n",
            "Testing Accuracy: 0.84538\n",
            "Iter 250, Loss= 0.000000, Training Accuracy= 1.00000\n",
            "Optimization Finished!\n",
            "Testing Accuracy: 0.84462\n"
          ],
          "name": "stdout"
        },
        {
          "output_type": "display_data",
          "data": {
            "image/png": "[encoded data removed]",
            "text/plain": [
              "<matplotlib.figure.Figure at 0x7f68db1daef0>"
            ]
          },
          "metadata": {
            "tags": []
          }
        },
        {
          "output_type": "display_data",
          "data": {
            "text/plain": [
              "<matplotlib.figure.Figure at 0x7f68d1db3978>"
            ]
          },
          "metadata": {
            "tags": []
          }
        }
      ]
    },
    {
      "metadata": {
        "id": "COSDSRFVf4gx",
        "colab_type": "code",
        "outputId": "3f1b590b-4e53-4446-ccd0-67c30626a2f2",
        "colab": {
          "base_uri": "https://localhost:8080/",
          "height": 417
        }
      },
      "cell_type": "code",
      "source": [
        "plt.plot(range(len(train_loss)), train_accuracy, 'b', label='Training Accuracy')\n",
        "plt.plot(range(len(train_loss)), test_accuracy, 'r', label='Test Accuracy')\n",
        "plt.title('Training and Test Accuracy')\n",
        "plt.xlabel('Epochs ',fontsize=16)\n",
        "plt.ylabel('Loss',fontsize=16)\n",
        "plt.legend()\n",
        "plt.figure()"
      ],
      "execution_count": 0,
      "outputs": [
        {
          "output_type": "execute_result",
          "data": {
            "text/plain": [
              "<matplotlib.figure.Figure at 0x7f68db31fb70>"
            ]
          },
          "metadata": {
            "tags": []
          },
          "execution_count": 14
        },
        {
          "output_type": "display_data",
          "data": {
            "image/png": "[encoded data removed]",
            "text/plain": [
              "<matplotlib.figure.Figure at 0x7f68e27ef588>"
            ]
          },
          "metadata": {
            "tags": []
          }
        },
        {
          "output_type": "display_data",
          "data": {
            "text/plain": [
              "<matplotlib.figure.Figure at 0x7f68db31fb70>"
            ]
          },
          "metadata": {
            "tags": []
          }
        }
      ]
    },
    {
      "metadata": {
        "id": "vG-ruliWe6hb",
        "colab_type": "text"
      },
      "cell_type": "markdown",
      "source": [
        "## 2nd try\n",
        "> 1.   training_iters = 250,\n",
        "learning_rate = 0.001 ,\n",
        "batch_size = 600\n",
        "\n",
        "> 2.   xavier_initializer\n",
        "\n",
        ">  3. dropout X\n",
        "\n",
        "> 4. ReLU 사용\n",
        "\n",
        "> 5. Adam optimizer\n",
        "\n",
        "**result**\n",
        "> Iter 250, Loss= 0.000000, Training Accuracy= 1.00000  \n",
        "Testing Accuracy: 0.84462"
      ]
    },
    {
      "metadata": {
        "id": "VNzieiudeyYw",
        "colab_type": "code",
        "outputId": "5ddfa74b-3da2-44cf-bfc5-4079e08fb057",
        "colab": {
          "base_uri": "https://localhost:8080/",
          "height": 2019
        }
      },
      "cell_type": "code",
      "source": [
        "tf.reset_default_graph()\n",
        "sess = tf.Session()\n",
        "sess.run(tf.global_variables_initializer())\n",
        "\n",
        "tf.reset_default_graph()\n",
        "a = tf.constant([1, 1, 1, 1, 1], dtype=tf.float32)\n",
        "graph_level_seed = 1\n",
        "operation_level_seed = 1\n",
        "tf.set_random_seed(graph_level_seed)\n",
        "b = tf.nn.dropout(a, 0.5, seed=operation_level_seed)\n",
        "\n",
        "\n",
        "training_iters = 300 \n",
        "learning_rate = 0.0001\n",
        "batch_size = 600\n",
        "\n",
        "#data input\n",
        "n_input = 64\n",
        "\n",
        "#total classes\n",
        "n_classes = 3\n",
        "\n",
        "\n",
        "#both placeholders are of type float\n",
        "x = tf.placeholder(\"float\", [None, n_input, n_input,1])\n",
        "y = tf.placeholder(\"float\", [None, n_classes])\n",
        "\n",
        "\n",
        "def conv2d(x, W, b, strides=1):\n",
        "    # Conv2D wrapper, with bias and relu activation\n",
        "    x = tf.nn.conv2d(x, W, strides=[1, strides, strides, 1], padding='SAME')\n",
        "    x = tf.nn.bias_add(x, b)\n",
        "    return tf.nn.leaky_relu(x) \n",
        "\n",
        "  \n",
        "def maxpool2d(x, k=2):\n",
        "    return tf.nn.max_pool(x, ksize=[1, k, k, 1], strides=[1, k, k, 1],padding='SAME')\n",
        "  \n",
        "def dropout2d(x, prob_conv=0.8):\n",
        "  return tf.nn.dropout(x,prob_conv)\n",
        "  \n",
        "weights = {\n",
        "    'wc1': tf.get_variable('W0', shape=(3,3,1,32), initializer=tf.contrib.layers.xavier_initializer()), \n",
        "    'wc2': tf.get_variable('W1', shape=(3,3,32,64), initializer=tf.contrib.layers.xavier_initializer()), \n",
        "    'wc3': tf.get_variable('W2', shape=(3,3,64,128), initializer=tf.contrib.layers.xavier_initializer()), \n",
        "    'wc4': tf.get_variable('W3', shape=(3,3,128,256), initializer=tf.contrib.layers.xavier_initializer()),\n",
        "    'wd1': tf.get_variable('W4', shape=(4*4*256,256), initializer=tf.contrib.layers.xavier_initializer()), \n",
        "    'out': tf.get_variable('W6', shape=(256,n_classes), initializer=tf.contrib.layers.xavier_initializer()), \n",
        "}\n",
        "biases = {\n",
        "    'bc1': tf.get_variable('B0', shape=(32), initializer=tf.contrib.layers.xavier_initializer()),\n",
        "    'bc2': tf.get_variable('B1', shape=(64), initializer=tf.contrib.layers.xavier_initializer()),\n",
        "    'bc3': tf.get_variable('B2', shape=(128), initializer=tf.contrib.layers.xavier_initializer()),\n",
        "    'bc4': tf.get_variable('B3', shape=(256), initializer=tf.contrib.layers.xavier_initializer()),\n",
        "    'bd1': tf.get_variable('B4', shape=(256), initializer=tf.contrib.layers.xavier_initializer()),\n",
        "    'out': tf.get_variable('B5', shape=(n_classes), initializer=tf.contrib.layers.xavier_initializer()),\n",
        "}\n",
        "\n",
        "def conv_net(x, weights, biases, dropout=False):  \n",
        "\n",
        "    conv1 = conv2d(x, weights['wc1'], biases['bc1'])\n",
        "    conv1 = maxpool2d(conv1, k=2)\n",
        "    if dropout==True:\n",
        "      conv1 = dropout2d(conv1)\n",
        "\n",
        "    conv2 = conv2d(conv1, weights['wc2'], biases['bc2'])\n",
        "    conv2 = maxpool2d(conv2, k=2)\n",
        "    if dropout==True:\n",
        "      conv2 = dropout2d(conv2)\n",
        "\n",
        "    conv3 = conv2d(conv2, weights['wc3'], biases['bc3'])\n",
        "    conv3 = maxpool2d(conv3, k=2)\n",
        "    if dropout==True:\n",
        "      conv3 = dropout2d(conv3,prob_conv=0.5)\n",
        "      \n",
        "    conv4 = conv2d(conv3, weights['wc4'], biases['bc4'])\n",
        "    conv4 = maxpool2d(conv4, k=2)\n",
        "\n",
        "    fc1 = tf.reshape(conv4, [-1, weights['wd1'].get_shape().as_list()[0]])\n",
        "    fc1 = tf.add(tf.matmul(fc1, weights['wd1']), biases['bd1'])\n",
        "    fc1 = tf.nn.relu(fc1)\n",
        "    # Output, class prediction\n",
        "    # finally we multiply the fully connected layer with the weights and add a bias term. \n",
        "    out = tf.add(tf.matmul(fc1, weights['out']), biases['out'])\n",
        "    return out\n",
        "  \n",
        "  \n",
        "  \n",
        "pred = conv_net(x, weights, biases)\n",
        "\n",
        "cost = tf.reduce_mean(tf.nn.softmax_cross_entropy_with_logits(logits=pred, labels=y))\n",
        "\n",
        "optimizer = tf.train.AdamOptimizer(learning_rate=learning_rate).minimize(cost)\n",
        "\n",
        "\n",
        "#Here you check whether the index of the maximum value of the predicted image is equal to the actual labelled image. and both will be a column vector.\n",
        "correct_prediction = tf.equal(tf.argmax(pred, 1), tf.argmax(y, 1))\n",
        "\n",
        "#calculate accuracy across all the given images and average them out. \n",
        "accuracy = tf.reduce_mean(tf.cast(correct_prediction, tf.float32))\n",
        "\n",
        "\n",
        "# Initializing the variables\n",
        "init = tf.global_variables_initializer()\n",
        "\n",
        "#######################################################################\n",
        "\n",
        "with tf.Session() as sess:\n",
        "    sess.run(init) \n",
        "    train_loss = []\n",
        "    test_loss = []\n",
        "    train_accuracy = []\n",
        "    test_accuracy = []\n",
        "    summary_writer = tf.summary.FileWriter('./Output', sess.graph)\n",
        "    for i in range(1,training_iters+1):\n",
        "        for batch in range(len(train_X)//batch_size):\n",
        "            batch_x = train_X[batch*batch_size:min((batch+1)*batch_size,len(train_X))]\n",
        "            batch_y = train_y[batch*batch_size:min((batch+1)*batch_size,len(train_y))]    \n",
        "            # Run optimization op (backprop).\n",
        "                # Calculate batch loss and accuracy\n",
        "            opt = sess.run(optimizer, feed_dict={x: batch_x,\n",
        "                                                              y: batch_y})\n",
        "            loss, acc = sess.run([cost, accuracy], feed_dict={x: batch_x,\n",
        "                                                              y: batch_y})\n",
        "        if i%10==0 :\n",
        "          print(\"Iter \" + str(i) + \", Loss= \" + \\\n",
        "                        \"{:.6f}\".format(loss) + \", Training Accuracy= \" + \\\n",
        "                        \"{:.5f}\".format(acc))\n",
        "          print(\"Optimization Finished!\")\n",
        "\n",
        "          # Calculate accuracy for all test images\n",
        "          test_acc,valid_loss = sess.run([accuracy,cost], feed_dict={x: test_X, y: test_y})\n",
        "          train_loss.append(loss)\n",
        "          test_loss.append(valid_loss)\n",
        "          train_accuracy.append(acc)\n",
        "          test_accuracy.append(test_acc)\n",
        "          print(\"Testing Accuracy:\",\"{:.5f}\".format(test_acc))\n",
        "    results = sess.run(correct_prediction,feed_dict={ x: test_X, y: test_y})\n",
        "    summary_writer.close()\n",
        "    \n",
        "    ##########################################################\n",
        "    \n",
        "plt.plot(range(len(train_loss)), train_loss, 'b', label='Training loss')\n",
        "plt.plot(range(len(train_loss)), test_loss, 'r', label='Test loss')\n",
        "plt.title('Training and Test loss')\n",
        "plt.xlabel('Epochs ',fontsize=16)\n",
        "plt.ylabel('Loss',fontsize=16)\n",
        "plt.legend()\n",
        "plt.figure()\n",
        "plt.show()\n"
      ],
      "execution_count": 0,
      "outputs": [
        {
          "output_type": "stream",
          "text": [
            "Iter 10, Loss= 0.738834, Training Accuracy= 0.69167\n",
            "Optimization Finished!\n",
            "Testing Accuracy: 0.63308\n",
            "Iter 20, Loss= 0.450691, Training Accuracy= 0.81500\n",
            "Optimization Finished!\n",
            "Testing Accuracy: 0.69231\n",
            "Iter 30, Loss= 0.314186, Training Accuracy= 0.85667\n",
            "Optimization Finished!\n",
            "Testing Accuracy: 0.72231\n",
            "Iter 40, Loss= 0.256788, Training Accuracy= 0.88000\n",
            "Optimization Finished!\n",
            "Testing Accuracy: 0.73385\n",
            "Iter 50, Loss= 0.214256, Training Accuracy= 0.90667\n",
            "Optimization Finished!\n",
            "Testing Accuracy: 0.75000\n",
            "Iter 60, Loss= 0.177975, Training Accuracy= 0.92167\n",
            "Optimization Finished!\n",
            "Testing Accuracy: 0.75154\n",
            "Iter 70, Loss= 0.149967, Training Accuracy= 0.93333\n",
            "Optimization Finished!\n",
            "Testing Accuracy: 0.76385\n",
            "Iter 80, Loss= 0.130407, Training Accuracy= 0.94500\n",
            "Optimization Finished!\n",
            "Testing Accuracy: 0.76846\n",
            "Iter 90, Loss= 0.114307, Training Accuracy= 0.96000\n",
            "Optimization Finished!\n",
            "Testing Accuracy: 0.77231\n",
            "Iter 100, Loss= 0.099253, Training Accuracy= 0.96167\n",
            "Optimization Finished!\n",
            "Testing Accuracy: 0.77923\n",
            "Iter 110, Loss= 0.085536, Training Accuracy= 0.96833\n",
            "Optimization Finished!\n",
            "Testing Accuracy: 0.78385\n",
            "Iter 120, Loss= 0.074393, Training Accuracy= 0.97333\n",
            "Optimization Finished!\n",
            "Testing Accuracy: 0.78923\n",
            "Iter 130, Loss= 0.063754, Training Accuracy= 0.98167\n",
            "Optimization Finished!\n",
            "Testing Accuracy: 0.79308\n",
            "Iter 140, Loss= 0.053620, Training Accuracy= 0.98167\n",
            "Optimization Finished!\n",
            "Testing Accuracy: 0.80077\n",
            "Iter 150, Loss= 0.043155, Training Accuracy= 0.98333\n",
            "Optimization Finished!\n",
            "Testing Accuracy: 0.80462\n",
            "Iter 160, Loss= 0.044284, Training Accuracy= 0.98167\n",
            "Optimization Finished!\n",
            "Testing Accuracy: 0.80462\n",
            "Iter 170, Loss= 0.034601, Training Accuracy= 0.99000\n",
            "Optimization Finished!\n",
            "Testing Accuracy: 0.80769\n",
            "Iter 180, Loss= 0.026490, Training Accuracy= 0.99500\n",
            "Optimization Finished!\n",
            "Testing Accuracy: 0.81308\n",
            "Iter 190, Loss= 0.024629, Training Accuracy= 0.99333\n",
            "Optimization Finished!\n",
            "Testing Accuracy: 0.81615\n",
            "Iter 200, Loss= 0.018654, Training Accuracy= 1.00000\n",
            "Optimization Finished!\n",
            "Testing Accuracy: 0.81615\n",
            "Iter 210, Loss= 0.019138, Training Accuracy= 1.00000\n",
            "Optimization Finished!\n",
            "Testing Accuracy: 0.81923\n",
            "Iter 220, Loss= 0.011471, Training Accuracy= 1.00000\n",
            "Optimization Finished!\n",
            "Testing Accuracy: 0.82538\n",
            "Iter 230, Loss= 0.010508, Training Accuracy= 1.00000\n",
            "Optimization Finished!\n",
            "Testing Accuracy: 0.82846\n",
            "Iter 240, Loss= 0.013912, Training Accuracy= 1.00000\n",
            "Optimization Finished!\n",
            "Testing Accuracy: 0.82231\n",
            "Iter 250, Loss= 0.006878, Training Accuracy= 1.00000\n",
            "Optimization Finished!\n",
            "Testing Accuracy: 0.83615\n",
            "Iter 260, Loss= 0.011118, Training Accuracy= 1.00000\n",
            "Optimization Finished!\n",
            "Testing Accuracy: 0.81769\n",
            "Iter 270, Loss= 0.007080, Training Accuracy= 1.00000\n",
            "Optimization Finished!\n",
            "Testing Accuracy: 0.82692\n",
            "Iter 280, Loss= 0.005257, Training Accuracy= 1.00000\n",
            "Optimization Finished!\n",
            "Testing Accuracy: 0.83692\n",
            "Iter 290, Loss= 0.005925, Training Accuracy= 1.00000\n",
            "Optimization Finished!\n",
            "Testing Accuracy: 0.82769\n",
            "Iter 300, Loss= 0.004711, Training Accuracy= 1.00000\n",
            "Optimization Finished!\n",
            "Testing Accuracy: 0.83846\n"
          ],
          "name": "stdout"
        },
        {
          "output_type": "display_data",
          "data": {
            "image/png": "[encoded data removed]",
            "text/plain": [
              "<matplotlib.figure.Figure at 0x7f68db0f9908>"
            ]
          },
          "metadata": {
            "tags": []
          }
        },
        {
          "output_type": "display_data",
          "data": {
            "text/plain": [
              "<matplotlib.figure.Figure at 0x7f68db636c88>"
            ]
          },
          "metadata": {
            "tags": []
          }
        }
      ]
    },
    {
      "metadata": {
        "id": "E9t03-PaiMWW",
        "colab_type": "code",
        "outputId": "6a9044f2-e401-42f3-dc25-2699fcd9a93d",
        "colab": {
          "base_uri": "https://localhost:8080/",
          "height": 417
        }
      },
      "cell_type": "code",
      "source": [
        "plt.plot(range(len(train_loss)), train_accuracy, 'b', label='Training Accuracy')\n",
        "plt.plot(range(len(train_loss)), test_accuracy, 'r', label='Test Accuracy')\n",
        "plt.title('Training and Test Accuracy')\n",
        "plt.xlabel('Epochs ',fontsize=16)\n",
        "plt.ylabel('Loss',fontsize=16)\n",
        "plt.legend()\n",
        "plt.figure()"
      ],
      "execution_count": 0,
      "outputs": [
        {
          "output_type": "execute_result",
          "data": {
            "text/plain": [
              "<matplotlib.figure.Figure at 0x7f68d033cf60>"
            ]
          },
          "metadata": {
            "tags": []
          },
          "execution_count": 20
        },
        {
          "output_type": "display_data",
          "data": {
            "image/png": "[encoded data removed]",
            "text/plain": [
              "<matplotlib.figure.Figure at 0x7f68d0f158d0>"
            ]
          },
          "metadata": {
            "tags": []
          }
        },
        {
          "output_type": "display_data",
          "data": {
            "text/plain": [
              "<matplotlib.figure.Figure at 0x7f68d033cf60>"
            ]
          },
          "metadata": {
            "tags": []
          }
        }
      ]
    },
    {
      "metadata": {
        "id": "HZ2p3RAHmhC3",
        "colab_type": "code",
        "colab": {}
      },
      "cell_type": "code",
      "source": [
        ""
      ],
      "execution_count": 0,
      "outputs": []
    }
  ]
}